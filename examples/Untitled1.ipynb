{
 "cells": [
  {
   "cell_type": "code",
   "execution_count": 51,
   "metadata": {},
   "outputs": [
    {
     "data": {
      "text/plain": [
       "[<matplotlib.lines.Line2D at 0x1f8aa5929b0>]"
      ]
     },
     "execution_count": 51,
     "metadata": {},
     "output_type": "execute_result"
    },
    {
     "data": {
      "image/png": "[encoded data removed]",
      "text/plain": [
       "<Figure size 432x288 with 1 Axes>"
      ]
     },
     "metadata": {
      "needs_background": "light"
     },
     "output_type": "display_data"
    }
   ],
   "source": [
    "import matplotlib.pyplot as plt\n",
    "import numpy as np\n",
    "%matplotlib inline\n",
    "load = np.exp(np.linspace(-1,0.5,200))**3\n",
    "set_load = 1\n",
    "opt_func = np.abs(load-set_load)/set_load\n",
    "opt_func[load<set_load]+=(set_load-load[load<set_load])/load[load<set_load]\n",
    "plt.plot(opt_func)"
   ]
  },
  {
   "cell_type": "code",
   "execution_count": 36,
   "metadata": {},
   "outputs": [
    {
     "data": {
      "text/plain": [
       "array([1.99326205, 1.99302082, 1.99277095, 1.99251214, 1.99224406,\n",
       "       1.99196638, 1.99167877, 1.99138085, 1.99107227, 1.99075264,\n",
       "       1.99042157, 1.99007864, 1.98972344, 1.98935552, 1.98897442,\n",
       "       1.98857969, 1.98817082, 1.98774731, 1.98730864, 1.98685427,\n",
       "       1.98638363, 1.98589614, 1.98539119, 1.98486817, 1.98432642,\n",
       "       1.98376528, 1.98318404, 1.982582  , 1.98195841, 1.98131248,\n",
       "       1.98064343, 1.97995043, 1.97923262, 1.97848911, 1.97771898,\n",
       "       1.97692128, 1.97609502, 1.97523917, 1.97435269, 1.97343447,\n",
       "       1.97248337, 1.97149823, 1.97047781, 1.96942086, 1.96832607,\n",
       "       1.96719208, 1.9660175 , 1.96480086, 1.96354067, 1.96223535,\n",
       "       1.96088331, 1.95948286, 1.95803227, 1.95652975, 1.95497343,\n",
       "       1.95336139, 1.95169165, 1.94996212, 1.94817067, 1.94631508,\n",
       "       1.94439306, 1.94240223, 1.94034012, 1.93820418, 1.93599178,\n",
       "       1.93370016, 1.9313265 , 1.92886787, 1.9263212 , 1.92368336,\n",
       "       1.92095109, 1.91812099, 1.91518956, 1.91215319, 1.90900811,\n",
       "       1.90575043, 1.90237612, 1.898881  , 1.89526076, 1.8915109 ,\n",
       "       1.88762678, 1.88360361, 1.8794364 , 1.87512   , 1.87064906,\n",
       "       1.86601806, 1.86122125, 1.85625272, 1.85110629, 1.84577562,\n",
       "       1.8402541 , 1.8345349 , 1.82861094, 1.82247489, 1.81611916,\n",
       "       1.80953588, 1.80271691, 1.79565381, 1.78833783, 1.78075993,\n",
       "       1.77291073, 1.76478051, 1.75635921, 1.74763641, 1.73860132,\n",
       "       1.72924276, 1.71954915, 1.70950848, 1.69910834, 1.68833586,\n",
       "       1.6771777 , 1.66562006, 1.65364863, 1.64124861, 1.62840464,\n",
       "       1.61510083, 1.60132072, 1.58704725, 1.57226277, 1.55694898,\n",
       "       1.54108693, 1.52465698, 1.50763881, 1.49001136, 1.47175282,\n",
       "       1.45284058, 1.43325125, 1.41296059, 1.39194348, 1.37017392,\n",
       "       1.34762497, 1.32426872, 1.30007628, 1.2750177 , 1.24906198,\n",
       "       1.222177  , 1.19432948, 1.16548497, 1.13560777, 1.10466091,\n",
       "       1.0726061 , 1.03940366, 1.00501252, 0.96939011, 0.93249235,\n",
       "       0.89427358, 0.85468651, 0.81368214, 0.77120975, 0.72721676,\n",
       "       0.68164874, 0.6344493 , 0.58556003, 0.53492044, 0.48246785,\n",
       "       0.42813737, 0.37186175, 0.31357135, 0.25319406, 0.19065514,\n",
       "       0.12587721, 0.05878011, 0.01071919, 0.08270669, 0.15727148,\n",
       "       0.23450583, 0.31450532, 0.39736894, 0.48319922, 0.5721024 ,\n",
       "       0.66418847, 0.7595714 , 0.85836921, 0.96070417, 1.06670291,\n",
       "       1.17649661, 1.29022113, 1.40801719, 1.53003058, 1.65641227,\n",
       "       1.78731866, 1.92291175, 2.06335932, 2.20883518, 2.35951934,\n",
       "       2.51559828, 2.67726514, 2.84471998, 3.01817001, 3.19782987,\n",
       "       3.3839219 , 3.57667636, 3.7763318 , 3.98313527, 4.1973427 ,\n",
       "       4.41921915, 4.64903919, 4.88708722, 5.13365782, 5.3890561 ])"
      ]
     },
     "execution_count": 36,
     "metadata": {},
     "output_type": "execute_result"
    }
   ],
   "source": [
    "opt_func"
   ]
  },
  {
   "cell_type": "code",
   "execution_count": 37,
   "metadata": {},
   "outputs": [
    {
     "data": {
      "text/plain": [
       "array([-9.93262053e-01, -9.93020822e-01, -9.92770954e-01, -9.92512141e-01,\n",
       "       -9.92244062e-01, -9.91966384e-01, -9.91678766e-01, -9.91380850e-01,\n",
       "       -9.91072269e-01, -9.90752639e-01, -9.90421566e-01, -9.90078641e-01,\n",
       "       -9.89723437e-01, -9.89355517e-01, -9.88974425e-01, -9.88579689e-01,\n",
       "       -9.88170820e-01, -9.87747313e-01, -9.87308644e-01, -9.86854270e-01,\n",
       "       -9.86383628e-01, -9.85896137e-01, -9.85391192e-01, -9.84868170e-01,\n",
       "       -9.84326422e-01, -9.83765278e-01, -9.83184045e-01, -9.82582002e-01,\n",
       "       -9.81958405e-01, -9.81312483e-01, -9.80643435e-01, -9.79950433e-01,\n",
       "       -9.79232621e-01, -9.78489110e-01, -9.77718980e-01, -9.76921278e-01,\n",
       "       -9.76095017e-01, -9.75239174e-01, -9.74352690e-01, -9.73434468e-01,\n",
       "       -9.72483373e-01, -9.71498226e-01, -9.70477809e-01, -9.69420860e-01,\n",
       "       -9.68326069e-01, -9.67192083e-01, -9.66017498e-01, -9.64800861e-01,\n",
       "       -9.63540666e-01, -9.62235354e-01, -9.60883309e-01, -9.59482859e-01,\n",
       "       -9.58032269e-01, -9.56529746e-01, -9.54973430e-01, -9.53361394e-01,\n",
       "       -9.51691645e-01, -9.49962116e-01, -9.48170666e-01, -9.46315079e-01,\n",
       "       -9.44393058e-01, -9.42402226e-01, -9.40340118e-01, -9.38204183e-01,\n",
       "       -9.35991777e-01, -9.33700163e-01, -9.31326505e-01, -9.28867865e-01,\n",
       "       -9.26321202e-01, -9.23683363e-01, -9.20951085e-01, -9.18120986e-01,\n",
       "       -9.15189564e-01, -9.12153192e-01, -9.09008112e-01, -9.05750433e-01,\n",
       "       -9.02376122e-01, -8.98881005e-01, -8.95260756e-01, -8.91510895e-01,\n",
       "       -8.87626782e-01, -8.83603611e-01, -8.79436403e-01, -8.75120001e-01,\n",
       "       -8.70649064e-01, -8.66018058e-01, -8.61221254e-01, -8.56252716e-01,\n",
       "       -8.51106294e-01, -8.45775621e-01, -8.40254100e-01, -8.34534899e-01,\n",
       "       -8.28610939e-01, -8.22474890e-01, -8.16119159e-01, -8.09535882e-01,\n",
       "       -8.02716910e-01, -7.95653807e-01, -7.88337831e-01, -7.80759930e-01,\n",
       "       -7.72910726e-01, -7.64780505e-01, -7.56359208e-01, -7.47636412e-01,\n",
       "       -7.38601324e-01, -7.29242763e-01, -7.19549148e-01, -7.09508483e-01,\n",
       "       -6.99108344e-01, -6.88335860e-01, -6.77177701e-01, -6.65620060e-01,\n",
       "       -6.53648633e-01, -6.41248607e-01, -6.28404636e-01, -6.15100828e-01,\n",
       "       -6.01320718e-01, -5.87047255e-01, -5.72262775e-01, -5.56948982e-01,\n",
       "       -5.41086928e-01, -5.24656982e-01, -5.07638814e-01, -4.90011363e-01,\n",
       "       -4.71752817e-01, -4.52840580e-01, -4.33251250e-01, -4.12960586e-01,\n",
       "       -3.91943478e-01, -3.70173918e-01, -3.47624967e-01, -3.24268722e-01,\n",
       "       -3.00076279e-01, -2.75017701e-01, -2.49061980e-01, -2.22176996e-01,\n",
       "       -1.94329478e-01, -1.65484968e-01, -1.35607770e-01, -1.04660913e-01,\n",
       "       -7.26060999e-02, -3.94036649e-02, -5.01252081e-03,  3.06098906e-02,\n",
       "        6.75076508e-02,  1.05726420e-01,  1.45313492e-01,  1.86317856e-01,\n",
       "        2.28790252e-01,  2.72783240e-01,  3.18351259e-01,  3.65550698e-01,\n",
       "        4.14439965e-01,  4.65079559e-01,  5.17532146e-01,  5.71862633e-01,\n",
       "        6.28138253e-01,  6.86428645e-01,  7.46805943e-01,  8.09344860e-01,\n",
       "        8.74122788e-01,  9.41219886e-01,  1.01071919e+00,  1.08270669e+00,\n",
       "        1.15727148e+00,  1.23450583e+00,  1.31450532e+00,  1.39736894e+00,\n",
       "        1.48319922e+00,  1.57210240e+00,  1.66418847e+00,  1.75957140e+00,\n",
       "        1.85836921e+00,  1.96070417e+00,  2.06670291e+00,  2.17649661e+00,\n",
       "        2.29022113e+00,  2.40801719e+00,  2.53003058e+00,  2.65641227e+00,\n",
       "        2.78731866e+00,  2.92291175e+00,  3.06335932e+00,  3.20883518e+00,\n",
       "        3.35951934e+00,  3.51559828e+00,  3.67726514e+00,  3.84471998e+00,\n",
       "        4.01817001e+00,  4.19782987e+00,  4.38392190e+00,  4.57667636e+00,\n",
       "        4.77633180e+00,  4.98313527e+00,  5.19734270e+00,  5.41921915e+00,\n",
       "        5.64903919e+00,  5.88708722e+00,  6.13365782e+00,  6.38905610e+00])"
      ]
     },
     "execution_count": 37,
     "metadata": {},
     "output_type": "execute_result"
    }
   ],
   "source": [
    "load"
   ]
  },
  {
   "cell_type": "code",
   "execution_count": null,
   "metadata": {},
   "outputs": [],
   "source": []
  }
 ],
 "metadata": {
  "kernelspec": {
   "display_name": "Python 3",
   "language": "python",
   "name": "python3"
  },
  "language_info": {
   "codemirror_mode": {
    "name": "ipython",
    "version": 3
   },
   "file_extension": ".py",
   "mimetype": "text/x-python",
   "name": "python",
   "nbconvert_exporter": "python",
   "pygments_lexer": "ipython3",
   "version": "3.7.3"
  }
 },
 "nbformat": 4,
 "nbformat_minor": 2
}
