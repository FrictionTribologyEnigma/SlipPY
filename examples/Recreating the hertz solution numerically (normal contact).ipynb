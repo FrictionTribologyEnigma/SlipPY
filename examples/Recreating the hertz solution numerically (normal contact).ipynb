{
 "cells": [
  {
   "cell_type": "markdown",
   "metadata": {},
   "source": [
    "# Recreating the hertz solution numerically\n",
    "In this note book we will cover how to use slippy to recreate the hertz solution for curved surfaces using the numerical solver in the contact sub package. In doing this the following topics will be covered:\n",
    "\n",
    "- Generating analytical surfaces\n",
    "- Making simple elastic materials\n",
    "- Creating and solving a single step contact model\n",
    "- Creating a static normal load step\n",
    "- Analytical hertz solutions with hertz_full\n",
    "\n",
    "The workflow used here is applicable to a wide range of problems, we will explore some of these at the end of this note book."
   ]
  },
  {
   "cell_type": "markdown",
   "metadata": {},
   "source": [
    "## Making the surfaces\n",
    "The first step towards making a contact simulation is making the surface geometry, here we will make two surfaces one flat and one round. \n",
    "\n",
    "For a contact model at least the first surface must be descretised (represented by a set of points). In this example the round surface is descretised while the flat surface is represented analytically"
   ]
  },
  {
   "cell_type": "code",
   "execution_count": 1,
   "metadata": {},
   "outputs": [
    {
     "ename": "ModuleNotFoundError",
     "evalue": "No module named 'slippy.surface'",
     "output_type": "error",
     "traceback": [
      "\u001b[1;31m---------------------------------------------------------------------------\u001b[0m",
      "\u001b[1;31mModuleNotFoundError\u001b[0m                       Traceback (most recent call last)",
      "\u001b[1;32m<ipython-input-1-f5089744f6f7>\u001b[0m in \u001b[0;36m<module>\u001b[1;34m\u001b[0m\n\u001b[1;32m----> 1\u001b[1;33m \u001b[1;32mimport\u001b[0m \u001b[0mslippy\u001b[0m\u001b[1;33m.\u001b[0m\u001b[0msurface\u001b[0m \u001b[1;32mas\u001b[0m \u001b[0mS\u001b[0m\u001b[1;33m\u001b[0m\u001b[1;33m\u001b[0m\u001b[0m\n\u001b[0m\u001b[0;32m      2\u001b[0m \u001b[1;32mimport\u001b[0m \u001b[0mnumpy\u001b[0m \u001b[1;32mas\u001b[0m \u001b[0mnp\u001b[0m\u001b[1;33m\u001b[0m\u001b[1;33m\u001b[0m\u001b[0m\n\u001b[0;32m      3\u001b[0m \u001b[0mget_ipython\u001b[0m\u001b[1;33m(\u001b[0m\u001b[1;33m)\u001b[0m\u001b[1;33m.\u001b[0m\u001b[0mrun_line_magic\u001b[0m\u001b[1;33m(\u001b[0m\u001b[1;34m'matplotlib'\u001b[0m\u001b[1;33m,\u001b[0m \u001b[1;34m'inline'\u001b[0m\u001b[1;33m)\u001b[0m\u001b[1;33m\u001b[0m\u001b[1;33m\u001b[0m\u001b[0m\n\u001b[0;32m      4\u001b[0m \u001b[1;33m\u001b[0m\u001b[0m\n\u001b[0;32m      5\u001b[0m \u001b[0mflat_surface\u001b[0m \u001b[1;33m=\u001b[0m \u001b[0mS\u001b[0m\u001b[1;33m.\u001b[0m\u001b[0mFlatSurface\u001b[0m\u001b[1;33m(\u001b[0m\u001b[0mshift\u001b[0m\u001b[1;33m=\u001b[0m\u001b[1;33m(\u001b[0m\u001b[1;36m0\u001b[0m\u001b[1;33m,\u001b[0m\u001b[1;36m0\u001b[0m\u001b[1;33m)\u001b[0m\u001b[1;33m)\u001b[0m\u001b[1;33m\u001b[0m\u001b[1;33m\u001b[0m\u001b[0m\n",
      "\u001b[1;31mModuleNotFoundError\u001b[0m: No module named 'slippy.surface'"
     ]
    }
   ],
   "source": [
    "import slippy.surface as S\n",
    "import numpy as np\n",
    "%matplotlib inline\n",
    "\n",
    "flat_surface = S.FlatSurface(shift=(0,0))\n",
    "round_surface = S.RoundSurface((1,1,1), extent = (0.006, 0.006), shape = (255, 255), generate = True)\n",
    "round_surface.show()"
   ]
  },
  {
   "cell_type": "markdown",
   "metadata": {},
   "source": [
    "## Setting the materials\n",
    "The next step is to set the materials of the surfaces, to start we will set them both to elastic materials. To do this the materials must be made then assigned to the surface as follows. The name of the material is just used to keep track of the materials which have been defined, it dosn't need to match the variable name."
   ]
  },
  {
   "cell_type": "code",
   "execution_count": null,
   "metadata": {},
   "outputs": [],
   "source": [
    "import slippy.contact as C\n",
    "steel = C.Elastic('Steel', {'E': 200e9, 'v':0.3})\n",
    "aluminum = C.Elastic('Aluminum', {'E': 70e9, 'v':0.33})\n",
    "flat_surface.material = aluminum\n",
    "round_surface.material = steel"
   ]
  },
  {
   "cell_type": "markdown",
   "metadata": {},
   "source": [
    "## Creating a contact model\n",
    "Now our surfaces are set up we can create a contact model object to keep track of everything. This object just contains the informaiton needed to solve a model, it also coordinates the running of the steps for a multi step model."
   ]
  },
  {
   "cell_type": "code",
   "execution_count": null,
   "metadata": {},
   "outputs": [],
   "source": [
    "my_model = C.ContactModel('model-1', round_surface, flat_surface)"
   ]
  },
  {
   "cell_type": "markdown",
   "metadata": {},
   "source": [
    "## Adding a step to the model\n",
    "Now we have a model but we have not asked it to do anything. The next step is to make a step object that contains the instructions of what you want to happen to these surfaces.\n",
    "\n",
    "We will use a StaticNormalLoad step we will not define any tangential behaviour as there is no friction in the hertz solution."
   ]
  },
  {
   "cell_type": "code",
   "execution_count": null,
   "metadata": {},
   "outputs": [],
   "source": [
    "total_load = 100\n",
    "my_step = C.StaticNormalLoad('contact', load_z=total_load)\n",
    "my_model.add_step(my_step)\n",
    "my_model.steps"
   ]
  },
  {
   "cell_type": "markdown",
   "metadata": {},
   "source": [
    "## Data checking the model\n",
    "Before running a model it is a good idea to data check it. This check will ensure that the model is made correctly and should reduce the number of errors that will occur when running. This will likely save you a lot of development time and fustration."
   ]
  },
  {
   "cell_type": "code",
   "execution_count": null,
   "metadata": {},
   "outputs": [],
   "source": [
    "my_model.data_check()"
   ]
  },
  {
   "cell_type": "markdown",
   "metadata": {},
   "source": [
    "## Solving the model\n",
    "For a single step model like this the easiest way to solve it is to request that the output is returned, for multi step models it is preferable to write the required outputs to a file to reduce the amount of memory that is needed to run the model.\n",
    "\n",
    "By deafult the model will write it's progress to a log file with the smae name as you gave the model. This can be found in the working directory."
   ]
  },
  {
   "cell_type": "code",
   "execution_count": null,
   "metadata": {},
   "outputs": [],
   "source": [
    "out = my_model.solve(skip_data_check = True)"
   ]
  },
  {
   "cell_type": "markdown",
   "metadata": {},
   "source": [
    "## Checking the model\n",
    "Now we have found the solution lets check that it lines up with the analytical solution. Firstly, we should check that specified load was achived. There may be error in this value as it is optimised for (the interferance betweenthe surfaces is set and the load is found iteratively)"
   ]
  },
  {
   "cell_type": "code",
   "execution_count": null,
   "metadata": {},
   "outputs": [],
   "source": [
    "print(f'Load set at: {total_load}')\n",
    "print(f\"Loads converged at: {sum(out['loads'].z.flatten()*round_surface.grid_spacing**2)}\")"
   ]
  },
  {
   "cell_type": "markdown",
   "metadata": {},
   "source": [
    "So there is a very small amount of error which is acceptabel for this application. To change the amount of error present the reltaive error can be set when the step is defined. This is done by chanig the rtol_load_loop parameter.\n",
    "\n",
    "### Now lets check that the maximum pressure and the contact area is the same as the analytical result:"
   ]
  },
  {
   "cell_type": "code",
   "execution_count": null,
   "metadata": {
    "scrolled": true
   },
   "outputs": [],
   "source": [
    "# find the analytical result using the hertz_full function\n",
    "a_result = C.hertz_full([1,1], [np.inf, np.inf], [200e9, 70e9], [0.3, 0.33], 100)\n",
    "#                        r1     r2                 E1     E2     v1    v2    load\n",
    "\n",
    "print('Analytical max pressure: ', a_result['max_pressure'])\n",
    "print('Numerical max pressure: ', max(out['loads'].z.flatten()))\n",
    "\n",
    "print('Analytical contact area: ', a_result['contact_area'])\n",
    "print('Numerical contact area: ', round_surface.grid_spacing**2*sum(out['contact_nodes'].flatten()))"
   ]
  },
  {
   "cell_type": "markdown",
   "metadata": {},
   "source": [
    "Again the results are very similar, the diference between the analytical and numerical results can be reduced by decreasing the tolerance on the displacement loop or reducing the grid size.\n",
    "\n",
    "### Now let's check that the pressure distribution is quadratic:"
   ]
  },
  {
   "cell_type": "code",
   "execution_count": null,
   "metadata": {},
   "outputs": [],
   "source": [
    "import matplotlib.pyplot as plt\n",
    "from mpl_toolkits.mplot3d import Axes3D\n",
    "\n",
    "fig = plt.figure(figsize=(20, 4))\n",
    "X,Y = round_surface.get_points_from_extent()\n",
    "X,Y = X-X[-1,-1]/2 , Y-Y[-1,-1]/2\n",
    "Z_n = out['loads'].z\n",
    "ax_0 = fig.add_subplot(131, projection='3d')\n",
    "ax_0.plot_surface(X, Y, Z_n, linewidth=0)\n",
    "ax_0.set_title('Numerical Result')\n",
    "\n",
    "R = np.sqrt(X**2+Y**2)\n",
    "Z_a = a_result['pressure_f'](R)\n",
    "ax_1 = fig.add_subplot(132, projection='3d')\n",
    "ax_1.plot_surface(X, Y, Z_a, linewidth=0, facecolor = [1,0,0])\n",
    "ax_1.set_title('Analytical Result')\n",
    "\n",
    "ax_2 = fig.add_subplot(133, projection='3d')\n",
    "ax_2.plot_surface(X, Y, np.abs(Z_a-Z_n), linewidth=0, facecolor = [1,0,0])\n",
    "ax_2.set_zlim((0,4e7))\n",
    "_ = ax_2.set_title('Absolute Error')"
   ]
  },
  {
   "cell_type": "markdown",
   "metadata": {},
   "source": [
    "The results which have been returned by an analysis can be shown as follows:"
   ]
  },
  {
   "cell_type": "code",
   "execution_count": null,
   "metadata": {
    "scrolled": true
   },
   "outputs": [],
   "source": [
    "for key in out:\n",
    "    print(key)"
   ]
  },
  {
   "cell_type": "markdown",
   "metadata": {},
   "source": [
    "# General rough surface contact\n",
    "The exact work flow defined above can be used for any rough surfce contact. As this is a live notebook the user is invited to add the following to the end of the first code block. First we will make a new random surface with a roughness of 1 micron, then we will add this to the round surface. "
   ]
  },
  {
   "cell_type": "code",
   "execution_count": null,
   "metadata": {},
   "outputs": [],
   "source": [
    "# First we define the autocorelation function of the surface\n",
    "my_acf = S.ACF('exp', round_surface.grid_spacing, 1e-6, 100, 100) \n",
    "#              ^exponential                       ^1 micron roughness\n",
    "# Then we will use this to generate a random surface by the linear transformation method:\n",
    "random_surface = S.RandomSurface(my_acf, grid_spacing=round_surface.grid_spacing, \n",
    "                                 extent = round_surface.extent, generate=True)\n",
    "# Next we simply add the surfaces together and the rest of the code\n",
    "round_surface = round_surface + random_surface\n",
    "round_surface.show()"
   ]
  },
  {
   "cell_type": "markdown",
   "metadata": {},
   "source": [
    "## More complex analyses\n",
    "More complicated analyses will require multiple steps and output requests to reduce memory requirements."
   ]
  }
 ],
 "metadata": {
  "kernelspec": {
   "display_name": "Python 3",
   "language": "python",
   "name": "python3"
  },
  "language_info": {
   "codemirror_mode": {
    "name": "ipython",
    "version": 3
   },
   "file_extension": ".py",
   "mimetype": "text/x-python",
   "name": "python",
   "nbconvert_exporter": "python",
   "pygments_lexer": "ipython3",
   "version": "3.7.3"
  }
 },
 "nbformat": 4,
 "nbformat_minor": 2
}
