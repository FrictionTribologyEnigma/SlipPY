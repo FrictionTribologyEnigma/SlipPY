{
 "cells": [
  {
   "cell_type": "markdown",
   "metadata": {},
   "source": [
    "# Displacement controlled normal contact\n",
    "***\n",
    "In this notebook we will make a contact model which solves a normal contact problem with a specified displacement. \n",
    "\n",
    "For normal contact problems with specified loads see the 'recreating the hertz solition numerically' example.\n",
    "\n",
    "Here again we will use the hertz solution as an easy way to verify that we are getting sensible results.\n",
    "\n",
    "First lets import everything we will need (no one actually writes these first it's just convention to put them at the top of the file)"
   ]
  },
  {
   "cell_type": "code",
   "execution_count": 1,
   "metadata": {},
   "outputs": [],
   "source": [
    "import slippy.surface as s      # surface generation and manipulation\n",
    "import slippy.contact as c      # contact modelling\n",
    "import numpy as np              # numerical functions \n",
    "import matplotlib.pyplot as plt # plotting"
   ]
  },
  {
   "cell_type": "markdown",
   "metadata": {},
   "source": [
    "## Making the surfaces\n",
    "In order to solve the problem the geometry must be set. As we are solving the hertz problem we will use an analytically defined round surface and an analytically defined flat surface. For your own analyses the geometry data can come from experimental data or be generated randomly. For more information on this see examples about the surface class and the analytical surfaces.\n",
    "\n",
    "Importantly at least one of the surfaces must be discrete to be used in a contact model."
   ]
  },
  {
   "cell_type": "code",
   "execution_count": 2,
   "metadata": {},
   "outputs": [],
   "source": [
    "flat_surface = s.FlatSurface(shift=(0, 0))\n",
    "round_surface = s.RoundSurface((1, 1, 1), extent=(0.006, 0.006), \n",
    "                               shape=(255, 255), generate=True)"
   ]
  },
  {
   "cell_type": "markdown",
   "metadata": {},
   "source": [
    "## Setting the materials \n",
    "The material for each surface must also be set. This material controls the deformation behaviour of the surface, the fricition and wear behaviour must be set separately. Please see tutorials on adding sub models to the step for more information."
   ]
  },
  {
   "cell_type": "code",
   "execution_count": 3,
   "metadata": {},
   "outputs": [],
   "source": [
    "# set materials\n",
    "steel = c.Elastic('Steel', {'E': 200e9, 'v': 0.3})\n",
    "aluminum = c.Elastic('Aluminum', {'E': 70e9, 'v': 0.33})\n",
    "flat_surface.material = aluminum\n",
    "round_surface.material = steel"
   ]
  },
  {
   "cell_type": "markdown",
   "metadata": {},
   "source": [
    "## Making a contact model\n",
    "Now we have surfaces and materials, but we need a contact model to hold this information and control the solving of model steps, this will become more important when we have multiple steps but for now think of the contact model as a container that all of the information is put in."
   ]
  },
  {
   "cell_type": "code",
   "execution_count": 4,
   "metadata": {},
   "outputs": [],
   "source": [
    "# create model\n",
    "my_model = c.ContactModel('model-1', round_surface, flat_surface)"
   ]
  },
  {
   "cell_type": "markdown",
   "metadata": {},
   "source": [
    "## Making a model step and adding it to the model\n",
    "A step defines what happens to the surfaces during a set period. Here we will add a step that sets the interferance between the surfaces from the point of first touching. The resulting loads on the surfaces and deflections at each point on the surface will be found.\n",
    "\n",
    "This can then be combined with ther sub models to specify friction or wear behaviour etc. however in this example we will simply compare the results back to the hertz solution. In order to do this we will use the analytical hertz solver to generate a sensible interferance."
   ]
  },
  {
   "cell_type": "code",
   "execution_count": 5,
   "metadata": {},
   "outputs": [],
   "source": [
    "# Find the analytical result\n",
    "anal_result = c.hertz_full([1, 1], [np.inf, np.inf], [200e9, 70e9], [0.3, 0.33], 100)\n",
    "\n",
    "# Make the model step\n",
    "my_step = c.StaticStep(step_name='This is the step name',\n",
    "                       interference=anal_result['total_deflection'])\n",
    "# Add the step to the model\n",
    "my_model.add_step(my_step)"
   ]
  },
  {
   "cell_type": "markdown",
   "metadata": {},
   "source": [
    "## Model steps\n",
    "The steps of the model are stored in the steps property of the model, this is an ordered dictionary, with the keys being the same as the step names. To retrieve a step you can index thie dictionary with the step name. However, if you try to add two steps with the same name the first will be overwritten. "
   ]
  },
  {
   "cell_type": "code",
   "execution_count": 6,
   "metadata": {},
   "outputs": [
    {
     "data": {
      "text/plain": [
       "OrderedDict([('Initial', InitialStep(model = None, name = initial)),\n",
       "             ('This is the step name',\n",
       "              StaticStep(This is the step name, time_period=1.0,off_set_x=0.0, off_set_y=0.0,normal_load=None, interference=1.1886938096020666e-06relative_loading:=False, adhesion=True,unloading=False, profile_interpolation_mode=nearest,periodic_geometry=False, periodic_axes(False, False),max_it_interference=100, rtol_interference:0.001,max_it_displacement=None, rtol_displacement=0.0001))])"
      ]
     },
     "execution_count": 6,
     "metadata": {},
     "output_type": "execute_result"
    }
   ],
   "source": [
    "my_model.steps"
   ]
  },
  {
   "cell_type": "markdown",
   "metadata": {},
   "source": [
    "## Solving the model\n",
    "The entire model can then be solved using the solve method of the contact model. This will run through all the steps in order and return the model state at the end of the last step. Other information can be saved using output requests, but as we only have one step there is no need for this. \n",
    "\n",
    "Before running, by default the model will data check it's self, this action checks that each step and sub model can be solved with the information from the current state. It dosen't check for numerical stabiltiy or accuracy. This can be skipped if necessary."
   ]
  },
  {
   "cell_type": "code",
   "execution_count": 7,
   "metadata": {},
   "outputs": [],
   "source": [
    "final_state = my_model.solve()"
   ]
  },
  {
   "cell_type": "markdown",
   "metadata": {},
   "source": [
    "## Checking the model against the analytical result\n",
    "Now lets check the model results against the analytical result from the hertz solution. Althoug this particular step directly sets the interferance, most steps in slippy are solved iteratively, so it is a good idea to check that the set parameter converged to the desired value:"
   ]
  },
  {
   "cell_type": "code",
   "execution_count": 8,
   "metadata": {},
   "outputs": [
    {
     "name": "stdout",
     "output_type": "stream",
     "text": [
      "Solution converged at:  1.1886938096020666e-06  interferance\n",
      "Set interferance was: 1.1886938096020666e-06\n"
     ]
    }
   ],
   "source": [
    "print('Solution converged at: ', final_state['interference'], ' interferance')\n",
    "print('Set interferance was:', anal_result['total_deflection'])"
   ]
  },
  {
   "cell_type": "markdown",
   "metadata": {},
   "source": [
    "Lets check the maximum pressure, contact area and total load all match up with the analytical values:"
   ]
  },
  {
   "cell_type": "code",
   "execution_count": 9,
   "metadata": {},
   "outputs": [
    {
     "name": "stdout",
     "output_type": "stream",
     "text": [
      "Analytical total load:  100\n",
      "Numerical total load:  100.02154306073318\n",
      "Analytical max pressure:  40167183.96434862\n",
      "Numerical max pressure:  40165072.18373249\n",
      "Analytical contact area:  3.7343917396135165e-06\n",
      "Numerical contact area:  3.7624913494809693e-06\n"
     ]
    }
   ],
   "source": [
    "print('Analytical total load: ', 100)\n",
    "print('Numerical total load: ', \n",
    "      round_surface.grid_spacing**2*sum(final_state['loads'].z.flatten()))\n",
    "\n",
    "print('Analytical max pressure: ', anal_result['max_pressure'])\n",
    "print('Numerical max pressure: ', max(final_state['loads'].z.flatten()))\n",
    "\n",
    "print('Analytical contact area: ', anal_result['contact_area'])\n",
    "print('Numerical contact area: ', \n",
    "      round_surface.grid_spacing**2* sum(final_state['contact_nodes'].flatten()))"
   ]
  },
  {
   "cell_type": "markdown",
   "metadata": {},
   "source": [
    "## Checking the form of the result\n",
    "We can also check that the individual surface loads line up with the analytical solution:"
   ]
  },
  {
   "cell_type": "code",
   "execution_count": 10,
   "metadata": {},
   "outputs": [
    {
     "data": {
      "image/png": "[encoded data removed]",
      "text/plain": [
       "<Figure size 1440x288 with 3 Axes>"
      ]
     },
     "metadata": {
      "needs_background": "light"
     },
     "output_type": "display_data"
    }
   ],
   "source": [
    "fig = plt.figure(figsize=(20, 4))\n",
    "X,Y = round_surface.get_points_from_extent()\n",
    "X,Y = X-X[-1,-1]/2 , Y-Y[-1,-1]/2\n",
    "ax_0 = fig.add_subplot(131)\n",
    "Z_n = final_state['loads'].z\n",
    "ax_0.imshow(Z_n)\n",
    "ax_0.set_title('Numerical Result')\n",
    "\n",
    "R = np.sqrt(X**2+Y**2)\n",
    "Z_a = anal_result['pressure_f'](R)\n",
    "ax_1 = fig.add_subplot(132)\n",
    "ax_1.imshow(Z_a)\n",
    "ax_1.set_title('Analytical Result')\n",
    "\n",
    "ax_2 = fig.add_subplot(133)\n",
    "ax_2.imshow(np.abs(Z_a-Z_n))\n",
    "for im in plt.gca().get_images():\n",
    "    im.set_clim(0, anal_result['max_pressure'])\n",
    "_ = ax_2.set_title('Absolute Error')"
   ]
  },
  {
   "cell_type": "markdown",
   "metadata": {},
   "source": [
    "## Other items in the state dict\n",
    "Other items can be listed from the state dict by the following code:"
   ]
  },
  {
   "cell_type": "code",
   "execution_count": 11,
   "metadata": {},
   "outputs": [
    {
     "name": "stdout",
     "output_type": "stream",
     "text": [
      "['just_touching_gap', 'surface_1_points', 'surface_2_points', 'time', 'time_step', 'new_step', 'off_set', 'loads', 'total_displacement', 'surface_1_displacement', 'surface_2_displacement', 'contact_nodes', 'total_normal_load', 'interference', 'converged', 'gap']\n"
     ]
    }
   ],
   "source": [
    "print(list(final_state.keys()))\n"
   ]
  },
  {
   "cell_type": "markdown",
   "metadata": {},
   "source": [
    "- __off_set__ : The horizonatal distance between the origins of the surfces at the end of the step, **(2 element list)**\n",
    "- __interferance__ : The displacement of the surfaces toward each other from the point of first touching at the end of the step, **float**\n",
    "- __loads__ : The pressure on each grid point in the surface, in the x, y and z directions, **named tuple with fields x, y and z**\n",
    "- __total_disp__ : The total deflection of each of surface grid points in the x, y and z directions, **named tuple with fields x, y and z**\n",
    "- __surf_1_disp__, __surf_2_disp__ : The displacements on each of the surface points for the first and second surface, **named tuple with fields x, y and z**\n",
    "- __contact_nodes__ : The nodes which are in contact for surface 1 only, **numpy boolean array**\n",
    "- __gap__ : The undeformaed gap between the surfaces"
   ]
  },
  {
   "cell_type": "code",
   "execution_count": 12,
   "metadata": {},
   "outputs": [
    {
     "ename": "KeyError",
     "evalue": "'total_disp'",
     "output_type": "error",
     "traceback": [
      "\u001b[1;31m---------------------------------------------------------------------------\u001b[0m",
      "\u001b[1;31mKeyError\u001b[0m                                  Traceback (most recent call last)",
      "\u001b[1;32m<ipython-input-12-c165874b4d70>\u001b[0m in \u001b[0;36m<module>\u001b[1;34m\u001b[0m\n\u001b[0;32m      1\u001b[0m \u001b[1;31m# getting the deformed gap between the surfaces\u001b[0m\u001b[1;33m\u001b[0m\u001b[1;33m\u001b[0m\u001b[1;33m\u001b[0m\u001b[0m\n\u001b[1;32m----> 2\u001b[1;33m \u001b[0mdef_gap\u001b[0m \u001b[1;33m=\u001b[0m \u001b[1;33m(\u001b[0m\u001b[0mfinal_state\u001b[0m\u001b[1;33m[\u001b[0m\u001b[1;34m'gap'\u001b[0m\u001b[1;33m]\u001b[0m \u001b[1;33m-\u001b[0m \u001b[0mfinal_state\u001b[0m\u001b[1;33m[\u001b[0m\u001b[1;34m'interference'\u001b[0m\u001b[1;33m]\u001b[0m \u001b[1;33m+\u001b[0m \u001b[0mfinal_state\u001b[0m\u001b[1;33m[\u001b[0m\u001b[1;34m'total_disp'\u001b[0m\u001b[1;33m]\u001b[0m\u001b[1;33m.\u001b[0m\u001b[0mz\u001b[0m\u001b[1;33m)\u001b[0m\u001b[1;33m\u001b[0m\u001b[1;33m\u001b[0m\u001b[0m\n\u001b[0m\u001b[0;32m      3\u001b[0m \u001b[0mplt\u001b[0m\u001b[1;33m.\u001b[0m\u001b[0mimshow\u001b[0m\u001b[1;33m(\u001b[0m\u001b[0mdef_gap\u001b[0m\u001b[1;33m)\u001b[0m\u001b[1;33m\u001b[0m\u001b[1;33m\u001b[0m\u001b[0m\n",
      "\u001b[1;31mKeyError\u001b[0m: 'total_disp'"
     ]
    }
   ],
   "source": [
    "# getting the deformed gap between the surfaces\n",
    "def_gap = (final_state['gap'] - final_state['interference'] + final_state['total_displacement'].z)\n",
    "plt.imshow(def_gap)"
   ]
  }
 ],
 "metadata": {
  "kernelspec": {
   "display_name": "Python 3",
   "language": "python",
   "name": "python3"
  },
  "language_info": {
   "codemirror_mode": {
    "name": "ipython",
    "version": 3
   },
   "file_extension": ".py",
   "mimetype": "text/x-python",
   "name": "python",
   "nbconvert_exporter": "python",
   "pygments_lexer": "ipython3",
   "version": "3.7.6"
  }
 },
 "nbformat": 4,
 "nbformat_minor": 2
}
