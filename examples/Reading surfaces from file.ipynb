{
 "cells": [
  {
   "cell_type": "markdown",
   "metadata": {},
   "source": [
    "# Reading surfaces from file\n",
    "In this notebook we will cover how to read surfaces from file or from other arrays. The file types covered are:\n",
    "- Making a surface from an array\n",
    "- Alicona .al3d\n",
    "- Matlab .mat\n",
    "- General csv .csv or .txt\n",
    "\n",
    "This functionality is in the surface sub package, we will also import numpy to use arrays:"
   ]
  },
  {
   "cell_type": "code",
   "execution_count": 1,
   "metadata": {},
   "outputs": [],
   "source": [
    "import slippy.surface as S\n",
    "import numpy as np"
   ]
  },
  {
   "cell_type": "markdown",
   "metadata": {},
   "source": [
    "## Making a surface from an array\n",
    "Surfaces can be made from arrays either by using the assurface function or by using the Surface class directly:"
   ]
  },
  {
   "cell_type": "code",
   "execution_count": 2,
   "metadata": {},
   "outputs": [
    {
     "name": "stdout",
     "output_type": "stream",
     "text": [
      "The above statements are equvalent: True\n"
     ]
    }
   ],
   "source": [
    "array = np.random.rand(10,10)\n",
    "my_surf_1 = S.assurface(array)\n",
    "my_surf_2 = S.Surface(profile = array)\n",
    "print('The above statements are equvalent:', my_surf_1 == my_surf_2)"
   ]
  },
  {
   "cell_type": "markdown",
   "metadata": {},
   "source": [
    "## Reading an alicona file\n",
    "Files can be read using the read_surface funciton"
   ]
  }
 ],
 "metadata": {
  "kernelspec": {
   "display_name": "Python 3",
   "language": "python",
   "name": "python3"
  },
  "language_info": {
   "codemirror_mode": {
    "name": "ipython",
    "version": 3
   },
   "file_extension": ".py",
   "mimetype": "text/x-python",
   "name": "python",
   "nbconvert_exporter": "python",
   "pygments_lexer": "ipython3",
   "version": "3.7.3"
  }
 },
 "nbformat": 4,
 "nbformat_minor": 2
}
