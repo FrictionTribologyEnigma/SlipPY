{
 "cells": [
  {
   "cell_type": "markdown",
   "metadata": {},
   "source": [
    "# Analytical hertz solutions\n",
    "It is often useful to have analytical hertz solutions to hand when solving tribology problems. Slippy contains two hertz solvers for tackling different types of problems. These are:\n",
    "\n",
    "- solve\\_hertz\\_...\n",
    "- hertz\\_full\n",
    "\n",
    "solve\\_hertz\\_line or solve\\_hertz\\_point can be used to find the remaing parameter when others are given. For example if the load required to give a certain maximum shear stress for a particular geometry and material pair is needed. \n",
    "\n",
    "hertz_full can be used when the geometry, materials and load are known, it gives more detailed results including functions for the stress in each body, when these are known.\n",
    "\n",
    "These three functions are found in the contact sub package:"
   ]
  },
  {
   "cell_type": "code",
   "execution_count": 17,
   "metadata": {},
   "outputs": [],
   "source": [
    "import slippy.contact as C"
   ]
  },
  {
   "cell_type": "markdown",
   "metadata": {},
   "source": [
    "## solve_hertz_point\n",
    "solve_hertz_point is used to find the remaining parameter given a set of parameters. For example it can find the load needed for a particular maximum pressure etc.. It cannot be used when there is an angle between the principal radii of the contacting bodies."
   ]
  },
  {
   "cell_type": "code",
   "execution_count": 25,
   "metadata": {},
   "outputs": [],
   "source": [
    "c.solve_hertz_point()"
   ]
  },
  {
   "cell_type": "code",
   "execution_count": 26,
   "metadata": {},
   "outputs": [
    {
     "data": {
      "text/plain": [
       "(13, 13)"
      ]
     },
     "execution_count": 26,
     "metadata": {},
     "output_type": "execute_result"
    }
   ],
   "source": [
    "s.shape"
   ]
  },
  {
   "cell_type": "code",
   "execution_count": 27,
   "metadata": {},
   "outputs": [],
   "source": [
    "s.resample(0.049473900056532176)"
   ]
  },
  {
   "cell_type": "code",
   "execution_count": 28,
   "metadata": {},
   "outputs": [
    {
     "data": {
      "text/plain": [
       "(128, 128)"
      ]
     },
     "execution_count": 28,
     "metadata": {},
     "output_type": "execute_result"
    }
   ],
   "source": [
    "s.shape"
   ]
  },
  {
   "cell_type": "code",
   "execution_count": 29,
   "metadata": {},
   "outputs": [
    {
     "data": {
      "text/plain": [
       "0.7824503786937322"
      ]
     },
     "execution_count": 29,
     "metadata": {},
     "output_type": "execute_result"
    }
   ],
   "source": [
    "s.profile[-1,-1]"
   ]
  },
  {
   "cell_type": "code",
   "execution_count": 30,
   "metadata": {},
   "outputs": [
    {
     "data": {
      "text/plain": [
       "0.7824503786937322"
      ]
     },
     "execution_count": 30,
     "metadata": {},
     "output_type": "execute_result"
    }
   ],
   "source": [
    "op[-1,-1]"
   ]
  },
  {
   "cell_type": "code",
   "execution_count": 31,
   "metadata": {},
   "outputs": [
    {
     "data": {
      "text/plain": [
       "True"
      ]
     },
     "execution_count": 31,
     "metadata": {},
     "output_type": "execute_result"
    }
   ],
   "source": [
    "np.allclose(op, s.profile)"
   ]
  },
  {
   "cell_type": "code",
   "execution_count": 33,
   "metadata": {},
   "outputs": [],
   "source": [
    "import slippy.contact as C"
   ]
  },
  {
   "cell_type": "code",
   "execution_count": 35,
   "metadata": {},
   "outputs": [
    {
     "data": {
      "text/plain": [
       "{'__name__': 'slippy.contact',\n",
       " '__doc__': '\\n===========================================================\\nContact mechanics models (:mod:`slippy.contact`)\\n===========================================================\\n\\n.. currentmodule:: slippy.contact\\n\\nThis module contains functions and classes for contact mechanics.\\n\\nAnalytical solutions to common problems\\n=======================================\\n\\n.. autosummary::\\n   :toctree: generated\\n\\n   hertz_full\\n   solve_hertz_line\\n   solve_hertz_point\\n\\nFunctions and classes for generating multistep contact models\\n=============================================================\\n\\nFunctions for elastic BEM soultions assuming the small angle assumption is\\nvalid\\n\\n.. autosummary::\\n   :toctree: generated\\n\\n   ContactModel\\n   Step\\n   Material\\n\\nXXXXXXXX put some examples here!\\n================================\\n\\n   \\n',\n",
       " '__package__': 'slippy.contact',\n",
       " '__loader__': <_frozen_importlib_external.SourceFileLoader at 0x16c0b66da20>,\n",
       " '__spec__': ModuleSpec(name='slippy.contact', loader=<_frozen_importlib_external.SourceFileLoader object at 0x0000016C0B66DA20>, origin='C:\\\\Users\\\\44779\\\\code\\\\slippy\\\\contact\\\\__init__.py', submodule_search_locations=['C:\\\\Users\\\\44779\\\\code\\\\slippy\\\\contact']),\n",
       " '__path__': ['C:\\\\Users\\\\44779\\\\code\\\\slippy\\\\contact'],\n",
       " '__file__': 'C:\\\\Users\\\\44779\\\\code\\\\slippy\\\\contact\\\\__init__.py',\n",
       " '__cached__': 'C:\\\\Users\\\\44779\\\\code\\\\slippy\\\\contact\\\\__pycache__\\\\__init__.cpython-37.pyc',\n",
       " '__builtins__': {'__name__': 'builtins',\n",
       "  '__doc__': \"Built-in functions, exceptions, and other objects.\\n\\nNoteworthy: None is the `nil' object; Ellipsis represents `...' in slices.\",\n",
       "  '__package__': '',\n",
       "  '__loader__': _frozen_importlib.BuiltinImporter,\n",
       "  '__spec__': ModuleSpec(name='builtins', loader=<class '_frozen_importlib.BuiltinImporter'>),\n",
       "  '__build_class__': <function __build_class__>,\n",
       "  '__import__': <function __import__>,\n",
       "  'abs': <function abs(x, /)>,\n",
       "  'all': <function all(iterable, /)>,\n",
       "  'any': <function any(iterable, /)>,\n",
       "  'ascii': <function ascii(obj, /)>,\n",
       "  'bin': <function bin(number, /)>,\n",
       "  'breakpoint': <function breakpoint>,\n",
       "  'callable': <function callable(obj, /)>,\n",
       "  'chr': <function chr(i, /)>,\n",
       "  'compile': <function compile(source, filename, mode, flags=0, dont_inherit=False, optimize=-1)>,\n",
       "  'delattr': <function delattr(obj, name, /)>,\n",
       "  'dir': <function dir>,\n",
       "  'divmod': <function divmod(x, y, /)>,\n",
       "  'eval': <function eval(source, globals=None, locals=None, /)>,\n",
       "  'exec': <function exec(source, globals=None, locals=None, /)>,\n",
       "  'format': <function format(value, format_spec='', /)>,\n",
       "  'getattr': <function getattr>,\n",
       "  'globals': <function globals()>,\n",
       "  'hasattr': <function hasattr(obj, name, /)>,\n",
       "  'hash': <function hash(obj, /)>,\n",
       "  'hex': <function hex(number, /)>,\n",
       "  'id': <function id(obj, /)>,\n",
       "  'input': <bound method Kernel.raw_input of <ipykernel.ipkernel.IPythonKernel object at 0x0000016C07AA9EF0>>,\n",
       "  'isinstance': <function isinstance(obj, class_or_tuple, /)>,\n",
       "  'issubclass': <function issubclass(cls, class_or_tuple, /)>,\n",
       "  'iter': <function iter>,\n",
       "  'len': <function len(obj, /)>,\n",
       "  'locals': <function locals()>,\n",
       "  'max': <function max>,\n",
       "  'min': <function min>,\n",
       "  'next': <function next>,\n",
       "  'oct': <function oct(number, /)>,\n",
       "  'ord': <function ord(c, /)>,\n",
       "  'pow': <function pow(x, y, z=None, /)>,\n",
       "  'print': <function print>,\n",
       "  'repr': <function repr(obj, /)>,\n",
       "  'round': <function round(number, ndigits=None)>,\n",
       "  'setattr': <function setattr(obj, name, value, /)>,\n",
       "  'sorted': <function sorted(iterable, /, *, key=None, reverse=False)>,\n",
       "  'sum': <function sum(iterable, start=0, /)>,\n",
       "  'vars': <function vars>,\n",
       "  'None': None,\n",
       "  'Ellipsis': Ellipsis,\n",
       "  'NotImplemented': NotImplemented,\n",
       "  'False': False,\n",
       "  'True': True,\n",
       "  'bool': bool,\n",
       "  'memoryview': memoryview,\n",
       "  'bytearray': bytearray,\n",
       "  'bytes': bytes,\n",
       "  'classmethod': classmethod,\n",
       "  'complex': complex,\n",
       "  'dict': dict,\n",
       "  'enumerate': enumerate,\n",
       "  'filter': filter,\n",
       "  'float': float,\n",
       "  'frozenset': frozenset,\n",
       "  'property': property,\n",
       "  'int': int,\n",
       "  'list': list,\n",
       "  'map': map,\n",
       "  'object': object,\n",
       "  'range': range,\n",
       "  'reversed': reversed,\n",
       "  'set': set,\n",
       "  'slice': slice,\n",
       "  'staticmethod': staticmethod,\n",
       "  'str': str,\n",
       "  'super': super,\n",
       "  'tuple': tuple,\n",
       "  'type': type,\n",
       "  'zip': zip,\n",
       "  '__debug__': True,\n",
       "  'BaseException': BaseException,\n",
       "  'Exception': Exception,\n",
       "  'TypeError': TypeError,\n",
       "  'StopAsyncIteration': StopAsyncIteration,\n",
       "  'StopIteration': StopIteration,\n",
       "  'GeneratorExit': GeneratorExit,\n",
       "  'SystemExit': SystemExit,\n",
       "  'KeyboardInterrupt': KeyboardInterrupt,\n",
       "  'ImportError': ImportError,\n",
       "  'ModuleNotFoundError': ModuleNotFoundError,\n",
       "  'OSError': OSError,\n",
       "  'EnvironmentError': OSError,\n",
       "  'IOError': OSError,\n",
       "  'WindowsError': OSError,\n",
       "  'EOFError': EOFError,\n",
       "  'RuntimeError': RuntimeError,\n",
       "  'RecursionError': RecursionError,\n",
       "  'NotImplementedError': NotImplementedError,\n",
       "  'NameError': NameError,\n",
       "  'UnboundLocalError': UnboundLocalError,\n",
       "  'AttributeError': AttributeError,\n",
       "  'SyntaxError': SyntaxError,\n",
       "  'IndentationError': IndentationError,\n",
       "  'TabError': TabError,\n",
       "  'LookupError': LookupError,\n",
       "  'IndexError': IndexError,\n",
       "  'KeyError': KeyError,\n",
       "  'ValueError': ValueError,\n",
       "  'UnicodeError': UnicodeError,\n",
       "  'UnicodeEncodeError': UnicodeEncodeError,\n",
       "  'UnicodeDecodeError': UnicodeDecodeError,\n",
       "  'UnicodeTranslateError': UnicodeTranslateError,\n",
       "  'AssertionError': AssertionError,\n",
       "  'ArithmeticError': ArithmeticError,\n",
       "  'FloatingPointError': FloatingPointError,\n",
       "  'OverflowError': OverflowError,\n",
       "  'ZeroDivisionError': ZeroDivisionError,\n",
       "  'SystemError': SystemError,\n",
       "  'ReferenceError': ReferenceError,\n",
       "  'MemoryError': MemoryError,\n",
       "  'BufferError': BufferError,\n",
       "  'Warning': Warning,\n",
       "  'UserWarning': UserWarning,\n",
       "  'DeprecationWarning': DeprecationWarning,\n",
       "  'PendingDeprecationWarning': PendingDeprecationWarning,\n",
       "  'SyntaxWarning': SyntaxWarning,\n",
       "  'RuntimeWarning': RuntimeWarning,\n",
       "  'FutureWarning': FutureWarning,\n",
       "  'ImportWarning': ImportWarning,\n",
       "  'UnicodeWarning': UnicodeWarning,\n",
       "  'BytesWarning': BytesWarning,\n",
       "  'ResourceWarning': ResourceWarning,\n",
       "  'ConnectionError': ConnectionError,\n",
       "  'BlockingIOError': BlockingIOError,\n",
       "  'BrokenPipeError': BrokenPipeError,\n",
       "  'ChildProcessError': ChildProcessError,\n",
       "  'ConnectionAbortedError': ConnectionAbortedError,\n",
       "  'ConnectionRefusedError': ConnectionRefusedError,\n",
       "  'ConnectionResetError': ConnectionResetError,\n",
       "  'FileExistsError': FileExistsError,\n",
       "  'FileNotFoundError': FileNotFoundError,\n",
       "  'IsADirectoryError': IsADirectoryError,\n",
       "  'NotADirectoryError': NotADirectoryError,\n",
       "  'InterruptedError': InterruptedError,\n",
       "  'PermissionError': PermissionError,\n",
       "  'ProcessLookupError': ProcessLookupError,\n",
       "  'TimeoutError': TimeoutError,\n",
       "  'open': <function io.open(file, mode='r', buffering=-1, encoding=None, errors=None, newline=None, closefd=True, opener=None)>,\n",
       "  'copyright': Copyright (c) 2001-2019 Python Software Foundation.\n",
       "  All Rights Reserved.\n",
       "  \n",
       "  Copyright (c) 2000 BeOpen.com.\n",
       "  All Rights Reserved.\n",
       "  \n",
       "  Copyright (c) 1995-2001 Corporation for National Research Initiatives.\n",
       "  All Rights Reserved.\n",
       "  \n",
       "  Copyright (c) 1991-1995 Stichting Mathematisch Centrum, Amsterdam.\n",
       "  All Rights Reserved.,\n",
       "  'credits':     Thanks to CWI, CNRI, BeOpen.com, Zope Corporation and a cast of thousands\n",
       "      for supporting Python development.  See www.python.org for more information.,\n",
       "  'license': See https://www.python.org/psf/license/,\n",
       "  'help': Type help() for interactive help, or help(object) for help about object.,\n",
       "  '__IPYTHON__': True,\n",
       "  'display': <function IPython.core.display.display(*objs, include=None, exclude=None, metadata=None, transient=None, display_id=None, **kwargs)>,\n",
       "  'get_ipython': <bound method InteractiveShell.get_ipython of <ipykernel.zmqshell.ZMQInteractiveShell object at 0x0000016C05E89630>>},\n",
       " 'hertz': <module 'slippy.contact.hertz' from 'C:\\\\Users\\\\44779\\\\code\\\\slippy\\\\contact\\\\hertz.py'>,\n",
       " 'hertz_full': <function slippy.contact.hertz.hertz_full(r1: Union[Sequence, float], r2: Union[Sequence, float], moduli: Union[Sequence, float], v: Union[Sequence, float], load: float, angle: float = 0.0, line: bool = False, integration_error: float = 1e-06, root_error: float = 1e-06)>,\n",
       " 'solve_hertz_line': <function slippy.contact.hertz.solve_hertz_line(*, r_rel: float = None, e1: float = None, e2: float = None, v1: float = None, v2: float = None, load: float = None, max_pressure: float = None, max_shear_stress: float = None, max_von_mises: float = None, contact_width: float = None, _system: dict = None)>,\n",
       " 'solve_hertz_point': <function slippy.contact.hertz.solve_hertz_point(*, r_rel=None, e1=None, e2=None, v1=None, v2=None, load=None, max_pressure=None, max_shear_stress=None, contact_radius=None, max_von_mises=None, total_displacement=None, max_tensile_stress=None)>,\n",
       " 'HertzLineSolution': slippy.contact.hertz.HertzLineSolution,\n",
       " 'HertzPointSolution': slippy.contact.hertz.HertzPointSolution,\n",
       " 'dummy_classes': <module 'slippy.contact.dummy_classes' from 'C:\\\\Users\\\\44779\\\\code\\\\slippy\\\\contact\\\\dummy_classes.py'>,\n",
       " '_FrictionModel': slippy.contact.friciton_models._FrictionModel,\n",
       " '_AdhesionModel': slippy.contact.adhesion_models._AdhesionModel,\n",
       " '_WearModel': slippy.contact.dummy_classes._WearModel,\n",
       " 'friction_model': <function slippy.contact.friciton_models.friction_model()>,\n",
       " 'adhesion_model': <function slippy.contact.adhesion_models.adhesion_model()>,\n",
       " 'wear_model': <function slippy.contact.dummy_classes.wear_model(name, parameters)>,\n",
       " '_material_utils': <module 'slippy.contact._material_utils' from 'C:\\\\Users\\\\44779\\\\code\\\\slippy\\\\contact\\\\_material_utils.py'>,\n",
       " 'materials': <module 'slippy.contact.materials' from 'C:\\\\Users\\\\44779\\\\code\\\\slippy\\\\contact\\\\materials.py'>,\n",
       " 'Elastic': slippy.contact.materials.Elastic,\n",
       " '_Material': slippy.contact.materials._Material,\n",
       " 'rigid': Rigid(rigid),\n",
       " 'friciton_models': <module 'slippy.contact.friciton_models' from 'C:\\\\Users\\\\44779\\\\code\\\\slippy\\\\contact\\\\friciton_models.py'>,\n",
       " 'adhesion_models': <module 'slippy.contact.adhesion_models' from 'C:\\\\Users\\\\44779\\\\code\\\\slippy\\\\contact\\\\adhesion_models.py'>,\n",
       " 'Loads': slippy.contact._material_utils.Loads,\n",
       " 'Displacements': slippy.contact._material_utils.Displacements,\n",
       " 'steps': <module 'slippy.contact.steps' from 'C:\\\\Users\\\\44779\\\\code\\\\slippy\\\\contact\\\\steps.py'>,\n",
       " 'step': <function slippy.contact.steps.step(model: slippy.abcs.abcs._ContactModelABC)>,\n",
       " '_ModelStep': slippy.contact.steps._ModelStep,\n",
       " 'InitialStep': slippy.contact.steps.InitialStep,\n",
       " '_model_utils': <module 'slippy.contact._model_utils' from 'C:\\\\Users\\\\44779\\\\code\\\\slippy\\\\contact\\\\_model_utils.py'>,\n",
       " 'static_step': <module 'slippy.contact.static_step' from 'C:\\\\Users\\\\44779\\\\code\\\\slippy\\\\contact\\\\static_step.py'>,\n",
       " 'StaticNormalLoad': slippy.contact.static_step.StaticNormalLoad,\n",
       " 'StaticNormalInterferance': slippy.contact.static_step.StaticNormalInterferance,\n",
       " 'ClosurePlot': slippy.contact.static_step.ClosurePlot,\n",
       " 'PullOff': slippy.contact.static_step.PullOff,\n",
       " 'SurfaceDisplacement': slippy.contact.static_step.SurfaceDisplacement,\n",
       " 'SurfaceLoading': slippy.contact.static_step.SurfaceLoading,\n",
       " 'outputs': <module 'slippy.contact.outputs' from 'C:\\\\Users\\\\44779\\\\code\\\\slippy\\\\contact\\\\outputs.py'>,\n",
       " 'models': <module 'slippy.contact.models' from 'C:\\\\Users\\\\44779\\\\code\\\\slippy\\\\contact\\\\models.py'>,\n",
       " 'ContactModel': slippy.contact.models.ContactModel,\n",
       " '__all__': ['ClosurePlot',\n",
       "  'ContactModel',\n",
       "  'Displacements',\n",
       "  'Elastic',\n",
       "  'HertzLineSolution',\n",
       "  'HertzPointSolution',\n",
       "  'InitialStep',\n",
       "  'Loads',\n",
       "  'PullOff',\n",
       "  'StaticNormalInterferance',\n",
       "  'StaticNormalLoad',\n",
       "  'SurfaceDisplacement',\n",
       "  'SurfaceLoading',\n",
       "  'adhesion_model',\n",
       "  'adhesion_models',\n",
       "  'dummy_classes',\n",
       "  'friciton_models',\n",
       "  'friction_model',\n",
       "  'hertz',\n",
       "  'hertz_full',\n",
       "  'materials',\n",
       "  'models',\n",
       "  'outputs',\n",
       "  'rigid',\n",
       "  'solve_hertz_line',\n",
       "  'solve_hertz_point',\n",
       "  'static_step',\n",
       "  'step',\n",
       "  'steps',\n",
       "  'wear_model']}"
      ]
     },
     "execution_count": 35,
     "metadata": {},
     "output_type": "execute_result"
    }
   ],
   "source": [
    "C.__dict__"
   ]
  },
  {
   "cell_type": "code",
   "execution_count": null,
   "metadata": {},
   "outputs": [],
   "source": []
  }
 ],
 "metadata": {
  "kernelspec": {
   "display_name": "Python 3",
   "language": "python",
   "name": "python3"
  },
  "language_info": {
   "codemirror_mode": {
    "name": "ipython",
    "version": 3
   },
   "file_extension": ".py",
   "mimetype": "text/x-python",
   "name": "python",
   "nbconvert_exporter": "python",
   "pygments_lexer": "ipython3",
   "version": "3.7.6"
  }
 },
 "nbformat": 4,
 "nbformat_minor": 2
}
