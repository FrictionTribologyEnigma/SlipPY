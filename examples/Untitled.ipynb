{
 "cells": [
  {
   "cell_type": "code",
   "execution_count": 39,
   "metadata": {},
   "outputs": [
    {
     "name": "stdout",
     "output_type": "stream",
     "text": [
      "overwriting spec\n",
      "finding component ...\n",
      "overwriting spec\n",
      "finding component ...\n"
     ]
    }
   ],
   "source": [
    "import inspect\n",
    "from functools import wraps\n",
    "\n",
    "def memoize_components(static_method = True):\n",
    "    \"\"\" A decorator for memoizing the components of an influence matrix or other method with components as the first arg\n",
    "\n",
    "        \n",
    "\n",
    "        Notes\n",
    "        -----\n",
    "        The cache is a dict with the same keys as previously passed components, when any of the other input arguments change the cache is deleted\n",
    "        \"\"\"\n",
    "    if not isinstance(static_method, bool):\n",
    "        raise ValueError('Memoise components is a decorator factory, it cannot be appled as a decorator directly. static_method argument must be a bool')\n",
    "    \n",
    "    def outer(fn):\n",
    "        \n",
    "        spec = [None]\n",
    "        memo = dict()\n",
    "        sig = inspect.signature(fn)\n",
    "        if static_method:\n",
    "            @wraps(fn)\n",
    "            def inner(component, *args, **kwargs):\n",
    "                nonlocal memo, spec, sig\n",
    "                new_spec = sig.bind(None, *args, **kwargs)\n",
    "                new_spec.apply_defaults()\n",
    "                if not new_spec == spec[0]:\n",
    "                    memo.clear()\n",
    "                    del spec[0]\n",
    "                    spec.append(new_spec)\n",
    "                if component not in memo:\n",
    "                    memo[component] = fn(component, *args, **kwargs)\n",
    "                return memo[component]\n",
    "        else:\n",
    "            @wraps(fn)\n",
    "            def inner(self, component, *args, **kwargs):\n",
    "                nonlocal memo, spec, sig\n",
    "                new_spec = sig.bind(None, None, *args, **kwargs)\n",
    "                new_spec.apply_defaults()\n",
    "                if not new_spec == spec[0]:\n",
    "                    memo.clear()\n",
    "                    del spec[0]\n",
    "                    spec.append(new_spec)\n",
    "                if component not in memo:\n",
    "                    memo[component] = fn(self, component, *args, **kwargs)\n",
    "                return memo[component]\n",
    "        \n",
    "        inner.memo = memo\n",
    "        inner.spec = spec\n",
    "        \n",
    "        return inner\n",
    "    return outer\n",
    "\n",
    "class MyClass:\n",
    "    def __init__(self, string):\n",
    "        self.string = string\n",
    "    \n",
    "    @staticmethod\n",
    "    @memoize_components(True)\n",
    "    def find_component(component, a=1, b=2):\n",
    "        print('finding component ...')\n",
    "        return [component, a, b]\n",
    "    \n",
    "    \n",
    "    @memoize_components(False)\n",
    "    def fc(self, component, a=1, b=2):\n",
    "        print('finding component ...')\n",
    "        return [component, a, b]\n",
    "\n",
    "a = MyClass('string')\n",
    "c1 = a.find_component('xx')\n",
    "b1 = a.fc('xx')"
   ]
  },
  {
   "cell_type": "code",
   "execution_count": 42,
   "metadata": {},
   "outputs": [
    {
     "name": "stdout",
     "output_type": "stream",
     "text": [
      "overwriting spec\n",
      "finding component ...\n"
     ]
    },
    {
     "data": {
      "text/plain": [
       "['xx', 4, 2]"
      ]
     },
     "execution_count": 42,
     "metadata": {},
     "output_type": "execute_result"
    }
   ],
   "source": [
    "a.fc('xx',4)"
   ]
  },
  {
   "cell_type": "code",
   "execution_count": 24,
   "metadata": {},
   "outputs": [
    {
     "name": "stdout",
     "output_type": "stream",
     "text": [
      "<BoundArguments (component=None, a=None, b=10)>\n"
     ]
    },
    {
     "data": {
      "text/plain": [
       "True"
      ]
     },
     "execution_count": 24,
     "metadata": {},
     "output_type": "execute_result"
    }
   ],
   "source": [
    "c3 = a.find_component('xx', 10)\n",
    "c2 is c3"
   ]
  },
  {
   "cell_type": "code",
   "execution_count": 15,
   "metadata": {},
   "outputs": [
    {
     "data": {
      "text/plain": [
       "['stringxx', 1, 2]"
      ]
     },
     "execution_count": 15,
     "metadata": {},
     "output_type": "execute_result"
    }
   ],
   "source": [
    "c2"
   ]
  },
  {
   "cell_type": "code",
   "execution_count": null,
   "metadata": {},
   "outputs": [],
   "source": []
  }
 ],
 "metadata": {
  "kernelspec": {
   "display_name": "Python 3",
   "language": "python",
   "name": "python3"
  },
  "language_info": {
   "codemirror_mode": {
    "name": "ipython",
    "version": 3
   },
   "file_extension": ".py",
   "mimetype": "text/x-python",
   "name": "python",
   "nbconvert_exporter": "python",
   "pygments_lexer": "ipython3",
   "version": "3.7.3"
  }
 },
 "nbformat": 4,
 "nbformat_minor": 2
}
