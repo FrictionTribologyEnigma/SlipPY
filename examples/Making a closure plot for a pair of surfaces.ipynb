{
 "cells": [
  {
   "cell_type": "markdown",
   "metadata": {},
   "source": [
    "# Closure plots\n",
    "In this note book we will look at how to make a closure plot for a pair of surfaces. In doing this the following topics will be covered:\n",
    "- Reading experimental surfaces from an alicona file\n",
    "- Generating a randomly rough surface with the linear transformation technique"
   ]
  }
 ],
 "metadata": {
  "kernelspec": {
   "display_name": "Python 3",
   "language": "python",
   "name": "python3"
  },
  "language_info": {
   "codemirror_mode": {
    "name": "ipython",
    "version": 3
   },
   "file_extension": ".py",
   "mimetype": "text/x-python",
   "name": "python",
   "nbconvert_exporter": "python",
   "pygments_lexer": "ipython3",
   "version": "3.7.3"
  }
 },
 "nbformat": 4,
 "nbformat_minor": 2
}
