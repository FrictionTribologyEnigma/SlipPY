{
 "cells": [
  {
   "cell_type": "markdown",
   "metadata": {},
   "source": [
    "# Adding the mixed lubricaiton solver in to slippy\n",
    "let's add the mixed lubrication solver from abdullah.\n",
    "\n",
    "First the solver is initialised, this was done with the hertzian solution then the no roughness solution:\n",
    "\n",
    "The solver basically iterates through these systems:\n",
    "- solve the reynolds equation\n",
    "- solve the pressure deflection equation\n",
    "- update the viscosity and density of the fluid\n",
    "- check for convergence if not repete the above\n",
    "- reduce the height change step size if necessary\n",
    "- check for load balance if not update height repeate above"
   ]
  },
  {
   "cell_type": "markdown",
   "metadata": {},
   "source": [
    "First we want a lubricant class that allows addition of any number of submodels, these will all be solved at the end of the iteration. This should allow either a common name to be passed and coeffiects or an equation/ funciton. This will mean having set names for the attributes and probably some 'get_attr' magic."
   ]
  },
  {
   "cell_type": "code",
   "execution_count": 1,
   "metadata": {},
   "outputs": [],
   "source": [
    "import numpy as np\n",
    "import slippy.surface as s\n",
    "from slippy.abcs import _LubricantModelABC, _ReynoldsSolverABC\n",
    "from slippy.contact import _ModelStep\n",
    "import typing"
   ]
  },
  {
   "cell_type": "markdown",
   "metadata": {},
   "source": [
    "# Iterative semi system lubrication step\n",
    "First we need a step that will hold all the relavant objects and control calling them in the right order"
   ]
  },
  {
   "cell_type": "code",
   "execution_count": null,
   "metadata": {},
   "outputs": [],
   "source": [
    "class SemiSystemStep(_ModelStep):\n",
    "    def __init__(self, step_name: str, load_z: float, relative_off_set:tuple:None,\n",
    "                 absolute_off_set: typing.Optional[tuple] = None, max_it=100, \n",
    "                 tol=1e-7, interpolation_mode:str = 'nearest', periodic:bool=False,\n",
    "                 material_options:dict = None, relaxation_factor:float = 0.5)\n",
    "    def _data_check(self, previous_state:set):\n",
    "        # check if there is a lubricnt defined for the model\n",
    "        \n",
    "        \n",
    "        pass\n",
    "    def _solve(self, previous_state:dict, output_file):\n",
    "        undeformed_gap, surf_1_pts, surf_2_pts = get_gap_from_model(self.model, interferance=0, off_set=off_set,\n",
    "                                                         mode=opt.interpolation_mode, periodic=opt.periodic)\n",
    "        if not 'pressure' in previous_state:\n",
    "            previous_state['pressure'] = np.zeros_like(gap)\n",
    "        if not 'temperature' in previous_state:\n",
    "            previous_state['temperature'] = np.zeros_like(gap)\n",
    "        while load != set_load:\n",
    "            while not_converged:\n",
    "                # solve lubricant models\n",
    "                current_state = self.model.lubricant.solve_pre_models(previous_state)\n",
    "                # solve reynolds\n",
    "                current_state = self.reynolds_solver.solve(previous_state, current_state)\n",
    "                # solve post lubricant models\n",
    "                current_state = self.model.lubricant.solve_post_models(current_state)\n",
    "                # solve contact geometry\n",
    "                disp, deformed_gap = solve_normal_pressure(undeformed_gap, )\n",
    "        self.solve_sub_models(current_state)\n",
    "        self.write_ouputs\n",
    "        return current_state"
   ]
  },
  {
   "cell_type": "markdown",
   "metadata": {},
   "source": [
    "# Reynolds solver class\n",
    "Now we want a reynolds solver class, this will solve the reynolds equation it will be held in the step class and called from these"
   ]
  },
  {
   "cell_type": "code",
   "execution_count": null,
   "metadata": {},
   "outputs": [],
   "source": [
    "from inspect import signature\n",
    "\n",
    "class Lubricant(_LubricantModelABC):\n",
    "    \"\"\"Just the basics here, what does a lubricant have to implement?\n",
    "    \n",
    "    It must implement a viscosity, density functions that will either return a scalar or a field of the same size as the\n",
    "    input, the input will contain the ..... pressure and film thickness at each point.\n",
    "    \n",
    "    gap functions can be implemented in the steps? \n",
    "    \n",
    "    Parameters\n",
    "    ----------\n",
    "    name: str\n",
    "        The name of the lubricant, used for output and error messages\n",
    "    reynolds_solver: _ReynoldsSolver\n",
    "        A reynolds solver which solves the required form of the reynolds equation\n",
    "    initial_viscosity: {float, np.ndarray}, optional (None)\n",
    "        Initial values for the viscosity of the lubricant, if this is set and no \n",
    "        viscosity model is set the lubricant will be perfectly linear, if this is \n",
    "        not set and a lubricant model is set or added later, the values will be initialised\n",
    "        with the value of the model when all inputs are 0\n",
    "    inital_density: {float, np.ndarray}, optional (None)\n",
    "        Initial values for the density of the lubricant, if this is set and no \n",
    "        density model is set the lubricant will be incompressable, if this is \n",
    "        not set and a lubricant model is set or added later, the values will be initialised\n",
    "        with the value of the model when all inputs are 0\n",
    "    viscosity_model: Callable, optional (None)\n",
    "        A callable which gives pointwise viscosity based on inputs in the current state dict,\n",
    "        for more information see the add_submodel_function method\n",
    "    density_model: Callable, optional (None)\n",
    "        A callable which gives pointwise density based on inputs in the current state dict,\n",
    "        for more information see the add_submodel_function method\n",
    "    viscosity_model_inputs: Sequence[str], optional (None)\n",
    "        The names of the input fields required for the viscosity model\n",
    "    density_model_inputs: Sequence[str], optional (None)\n",
    "        The names of the input fields required for the density model\n",
    "    \"\"\"\n",
    "    solver:_ReynoldsSolver = None\n",
    "    valid_submodel_params = ['viscosities' ,'densities', 'gaps']\n",
    "    pre_submodels = dict() # keys are the name of the param to be updated, values are tuples, first element is the function, \n",
    "    post_submodels = dict()\n",
    "    initial_viscosity = None\n",
    "    initial_density = None\n",
    "    \n",
    "    def __init__(self, name:str, reynolds_solver:_ReynoldsSolver,\n",
    "                 initial_viscosity = None, initial_density = None,\n",
    "                 viscosity_model=None, density_model=None, \n",
    "                 viscosity_model_inputs=None, density_model_inputs=None):\n",
    "        \"\"\"should be able to set the newtonian properties and solver to be used\"\"\"\n",
    "        self.name = name\n",
    "        self.reynolds_solver = reynolds_solver\n",
    "        \n",
    "        self.initial_viscosity = initial_viscosity\n",
    "        self.initial_density = initial_density\n",
    "        \n",
    "        if viscosity_model is not None:\n",
    "            self.add_submodel_function('viscosities', viscosity_model, viscosity_model_inputs)\n",
    "        if density_model is not None:\n",
    "            self.add_submodel_function('densities', density_model, density_model_inputs)\n",
    "        \n",
    "            \n",
    "    def add_submodel_named(self, model_name, *args, **kwargs, after_reynolds=True):\n",
    "        \"\"\"add a named submodel to the lubricaiton solver\"\"\"\n",
    "        \n",
    "    def add_submodel_function(self, parameter:str, model:typing.Callable, \n",
    "                              inputs:typing.Sequence[str], after_reynolds:bool=True):\n",
    "        \"\"\"add a sub model for a parameter using a function (pass in the\n",
    "        current state dict and the this iteration dict)\n",
    "        viscosity, pressure, gap, \n",
    "        \n",
    "        \"\"\"\n",
    "        if not parameter in self.valid_submodel_params:\n",
    "            raise ValueError(f'{parameter} is not a valid sub model parameter, '\n",
    "                             f'valid parameters are: {' '.join(self.valid_submodel_params)}')\n",
    "        if not hasattr(model, '__call__'):\n",
    "            raise ValueError('Model must be callable')\n",
    "        \n",
    "        if type(inputs) is str:\n",
    "            inputs = (inputs,)\n",
    "        \n",
    "        allowed_types = [str, type(None)]\n",
    "        if any([type(item) not in allowed_types for item in inputs]):\n",
    "            raise ValueError('Non string inputs found, inputs should be strings relating to '\n",
    "                             'keys in the current state dictionary, or None for unset inputs')\n",
    "        \n",
    "        sig = signature(model)\n",
    "        params = sig.parameters\n",
    "        if len(params)!=len(inputs):\n",
    "            raise ValueError('Number of inputs does not match the number of arguments:'\n",
    "                             f' {len(inputs)} inputs given, function has {len(params)} arguments')\n",
    "            \n",
    "        if after_reynolds:\n",
    "            self.post_submodels[parameter] = (model, *inputs)\n",
    "        else:\n",
    "            self.pre_submodels[parameter] = (model, *inputs)\n",
    "        \n",
    "    def data_check(self, current_state):\n",
    "        if self.solver is None:\n",
    "            raise ValueError(\"\")\n",
    "        \n",
    "    def initialise(self, current_state:dict):\n",
    "        \"\"\"Add initial values to the current state dict\"\"\"\n",
    "        pass\n",
    "    \n",
    "    def iterate(self, current_state:dict):\n",
    "        \"\"\"Iterates the lubricant model solving all the submodels and the reynolds solver\n",
    "        \n",
    "        Parameters\n",
    "        \"\"\"\n",
    "        while True:\n",
    "            #solve pre models\n",
    "            for param_name, (model, *args_names) in self.pre_submodels.items():\n",
    "                args = [current_state[arg_name] for arg_name in arg_names]\n",
    "                current_state[param_name] = model(*args)\n",
    "            \n",
    "            #solve reynolds equaiton\n",
    "            current_state = self.reynolds_solver.solve(current_state)\n",
    "            \n",
    "            # solve post models\n",
    "            for param_name, (model, *args_names) in self.post_submodels.items():\n",
    "                args = [current_state[arg_name] for arg_name in arg_names]\n",
    "                current_state[param_name] = model(*args)\n",
    "            \n",
    "            current_state = yield current_state"
   ]
  },
  {
   "cell_type": "code",
   "execution_count": null,
   "metadata": {},
   "outputs": [],
   "source": []
  },
  {
   "cell_type": "markdown",
   "metadata": {},
   "source": [
    "Next we will need to implement the reynolds solver as a class"
   ]
  },
  {
   "cell_type": "code",
   "execution_count": null,
   "metadata": {},
   "outputs": [],
   "source": [
    "import abc\n",
    "\n",
    "class _ReynoldsSolver(abc.ABC):\n",
    "    \"\"\"Abstract base class for reynolds solvers this should take only solver specific inputs\n",
    "    \n",
    "    To implement your own reynolds solver subclass this ABC, you \n",
    "    \"\"\"\n",
    "    _subclass_registry = []\n",
    "    \n",
    "    def __init__(self):\n",
    "        pass\n",
    "    \n",
    "    @classmethod\n",
    "    def __init_subclass__(cls, is_abstract=False, **kwargs):\n",
    "        super().__init_subclass__(**kwargs)\n",
    "        if not is_abstract:\n",
    "            _ReynoldsSolver._subclass_registry.append(cls)\n",
    "        \n",
    "    @abc.abstractmethod\n",
    "    def solve(self, previous_state:dict)->dict:\n",
    "        pass\n",
    "    \n",
    "    @abc.abstractmethod\n",
    "    def dimentionalise(self, )\n",
    "    \n",
    "    @abc.abstractmethod\n",
    "    def __repr__(self):\n",
    "        pass"
   ]
  },
  {
   "cell_type": "code",
   "execution_count": null,
   "metadata": {},
   "outputs": [],
   "source": [
    "class UnifiedSolver(_ReynoldsSolver):\n",
    "    \"\"\"This class does the solving of the reynolds equations\"\"\"\n",
    "    def __init__(self, relaxation_factor, dimention_less=True):\n",
    "        self.relaxation_factor = relaxation_factor\n",
    "        \n",
    "    def solve(self, current_state):\n",
    "        # find the reynolds coefficent (xi) EPS in fortran code\n",
    "        \n",
    "        # find first "
   ]
  },
  {
   "cell_type": "markdown",
   "metadata": {},
   "source": [
    "Next we will extend the steps class to make it model step and avalible to be solved with the same api as the current steps. This step will just implement the global optimisation "
   ]
  },
  {
   "cell_type": "code",
   "execution_count": 5,
   "metadata": {},
   "outputs": [
    {
     "ename": "ValueError",
     "evalue": "not enough values to unpack (expected 2, got 1)",
     "output_type": "error",
     "traceback": [
      "\u001b[0;31m---------------------------------------------------------------------------\u001b[0m",
      "\u001b[0;31mValueError\u001b[0m                                Traceback (most recent call last)",
      "\u001b[0;32m<ipython-input-5-0c3df24d9d9b>\u001b[0m in \u001b[0;36m<module>\u001b[0;34m\u001b[0m\n\u001b[1;32m      1\u001b[0m \u001b[0mmy_dict\u001b[0m \u001b[0;34m=\u001b[0m \u001b[0;34m{\u001b[0m\u001b[0;34m'a'\u001b[0m\u001b[0;34m:\u001b[0m \u001b[0;34m[\u001b[0m\u001b[0;36m1\u001b[0m\u001b[0;34m,\u001b[0m\u001b[0;36m2\u001b[0m\u001b[0;34m,\u001b[0m\u001b[0;36m3\u001b[0m\u001b[0;34m]\u001b[0m\u001b[0;34m}\u001b[0m\u001b[0;34m\u001b[0m\u001b[0;34m\u001b[0m\u001b[0m\n\u001b[0;32m----> 2\u001b[0;31m \u001b[0ma\u001b[0m\u001b[0;34m,\u001b[0m \u001b[0;34m(\u001b[0m\u001b[0mf\u001b[0m\u001b[0;34m,\u001b[0m \u001b[0;34m*\u001b[0m\u001b[0mp\u001b[0m\u001b[0;34m)\u001b[0m \u001b[0;34m=\u001b[0m \u001b[0mmy_dict\u001b[0m\u001b[0;34m.\u001b[0m\u001b[0mitems\u001b[0m\u001b[0;34m(\u001b[0m\u001b[0;34m)\u001b[0m\u001b[0;34m\u001b[0m\u001b[0;34m\u001b[0m\u001b[0m\n\u001b[0m",
      "\u001b[0;31mValueError\u001b[0m: not enough values to unpack (expected 2, got 1)"
     ]
    }
   ],
   "source": [
    "my_dict = {'a': [1,2,3]}\n",
    "a, (f, *p) = my_dict.items()"
   ]
  },
  {
   "cell_type": "code",
   "execution_count": 3,
   "metadata": {},
   "outputs": [
    {
     "data": {
      "text/plain": [
       "dict_items([('a', [1, 2, 3])])"
      ]
     },
     "execution_count": 3,
     "metadata": {},
     "output_type": "execute_result"
    }
   ],
   "source": [
    "my_dict.items()"
   ]
  },
  {
   "cell_type": "code",
   "execution_count": 6,
   "metadata": {},
   "outputs": [
    {
     "name": "stdout",
     "output_type": "stream",
     "text": [
      "a\n"
     ]
    }
   ],
   "source": [
    "for a, (f, *p) in my_dict.items():\n",
    "    print(a)"
   ]
  },
  {
   "cell_type": "code",
   "execution_count": 7,
   "metadata": {},
   "outputs": [
    {
     "data": {
      "text/plain": [
       "1"
      ]
     },
     "execution_count": 7,
     "metadata": {},
     "output_type": "execute_result"
    }
   ],
   "source": [
    "f"
   ]
  },
  {
   "cell_type": "code",
   "execution_count": 8,
   "metadata": {},
   "outputs": [
    {
     "data": {
      "text/plain": [
       "[2, 3]"
      ]
     },
     "execution_count": 8,
     "metadata": {},
     "output_type": "execute_result"
    }
   ],
   "source": [
    "p"
   ]
  },
  {
   "cell_type": "code",
   "execution_count": 9,
   "metadata": {},
   "outputs": [],
   "source": [
    "md= {a:[f,*p]}"
   ]
  },
  {
   "cell_type": "code",
   "execution_count": 10,
   "metadata": {},
   "outputs": [
    {
     "data": {
      "text/plain": [
       "{'a': [1, 2, 3]}"
      ]
     },
     "execution_count": 10,
     "metadata": {},
     "output_type": "execute_result"
    }
   ],
   "source": [
    "md"
   ]
  },
  {
   "cell_type": "code",
   "execution_count": null,
   "metadata": {},
   "outputs": [],
   "source": []
  }
 ],
 "metadata": {
  "kernelspec": {
   "display_name": "Python 3",
   "language": "python",
   "name": "python3"
  },
  "language_info": {
   "codemirror_mode": {
    "name": "ipython",
    "version": 3
   },
   "file_extension": ".py",
   "mimetype": "text/x-python",
   "name": "python",
   "nbconvert_exporter": "python",
   "pygments_lexer": "ipython3",
   "version": "3.7.0"
  }
 },
 "nbformat": 4,
 "nbformat_minor": 2
}
