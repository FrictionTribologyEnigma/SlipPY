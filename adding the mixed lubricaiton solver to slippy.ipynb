{
 "cells": [
  {
   "cell_type": "markdown",
   "metadata": {},
   "source": [
    "# Testing the unified reynolds equation solver"
   ]
  },
  {
   "cell_type": "code",
   "execution_count": 1,
   "metadata": {},
   "outputs": [],
   "source": [
    "from collections import OrderedDict"
   ]
  },
  {
   "cell_type": "code",
   "execution_count": 2,
   "metadata": {},
   "outputs": [],
   "source": [
    "a = {2:2,3:3,4:4}"
   ]
  },
  {
   "cell_type": "code",
   "execution_count": 7,
   "metadata": {},
   "outputs": [
    {
     "ename": "TypeError",
     "evalue": "'int' object is not iterable",
     "output_type": "error",
     "traceback": [
      "\u001b[1;31m---------------------------------------------------------------------------\u001b[0m",
      "\u001b[1;31mTypeError\u001b[0m                                 Traceback (most recent call last)",
      "\u001b[1;32m<ipython-input-7-d9394a7315a3>\u001b[0m in \u001b[0;36m<module>\u001b[1;34m\u001b[0m\n\u001b[1;32m----> 1\u001b[1;33m \u001b[0mOrderedDict\u001b[0m\u001b[1;33m(\u001b[0m\u001b[1;33m[\u001b[0m\u001b[1;36m1\u001b[0m\u001b[1;33m,\u001b[0m\u001b[1;36m2\u001b[0m\u001b[1;33m,\u001b[0m\u001b[1;36m3\u001b[0m\u001b[1;33m]\u001b[0m\u001b[1;33m)\u001b[0m\u001b[1;33m\u001b[0m\u001b[0m\n\u001b[0m",
      "\u001b[1;31mTypeError\u001b[0m: 'int' object is not iterable"
     ]
    }
   ],
   "source": [
    "OrderedDict([1,2,3])"
   ]
  },
  {
   "cell_type": "code",
   "execution_count": 6,
   "metadata": {},
   "outputs": [
    {
     "name": "stdout",
     "output_type": "stream",
     "text": [
      "2:2\n",
      "3:3\n",
      "4:4\n"
     ]
    }
   ],
   "source": [
    "for key, value in OrderedDict(a).items():\n",
    "    print(f'{key}:{value}')"
   ]
  },
  {
   "cell_type": "code",
   "execution_count": 8,
   "metadata": {},
   "outputs": [
    {
     "ename": "AttributeError",
     "evalue": "'list' object has no attribute 'items'",
     "output_type": "error",
     "traceback": [
      "\u001b[1;31m---------------------------------------------------------------------------\u001b[0m",
      "\u001b[1;31mAttributeError\u001b[0m                            Traceback (most recent call last)",
      "\u001b[1;32m<ipython-input-8-cbb6983aff7b>\u001b[0m in \u001b[0;36m<module>\u001b[1;34m\u001b[0m\n\u001b[1;32m----> 1\u001b[1;33m \u001b[1;33m[\u001b[0m\u001b[1;33m]\u001b[0m\u001b[1;33m.\u001b[0m\u001b[0mitems\u001b[0m\u001b[1;33m(\u001b[0m\u001b[1;33m)\u001b[0m\u001b[1;33m\u001b[0m\u001b[0m\n\u001b[0m",
      "\u001b[1;31mAttributeError\u001b[0m: 'list' object has no attribute 'items'"
     ]
    }
   ],
   "source": [
    "[].items()"
   ]
  },
  {
   "cell_type": "code",
   "execution_count": 9,
   "metadata": {},
   "outputs": [
    {
     "ename": "NameError",
     "evalue": "name 'function' is not defined",
     "output_type": "error",
     "traceback": [
      "\u001b[1;31m---------------------------------------------------------------------------\u001b[0m",
      "\u001b[1;31mNameError\u001b[0m                                 Traceback (most recent call last)",
      "\u001b[1;32m<ipython-input-9-d4ad1d48d340>\u001b[0m in \u001b[0;36m<module>\u001b[1;34m\u001b[0m\n\u001b[1;32m----> 1\u001b[1;33m \u001b[0mfunction\u001b[0m\u001b[1;33m\u001b[0m\u001b[0m\n\u001b[0m",
      "\u001b[1;31mNameError\u001b[0m: name 'function' is not defined"
     ]
    }
   ],
   "source": [
    "function"
   ]
  },
  {
   "cell_type": "code",
   "execution_count": 10,
   "metadata": {},
   "outputs": [],
   "source": [
    "class Constant:\n",
    "    def __init__(self, value: float):\n",
    "        self.value = value\n",
    "    \n",
    "    def __getitem__(self, item):\n",
    "        return self.value"
   ]
  },
  {
   "cell_type": "code",
   "execution_count": 17,
   "metadata": {},
   "outputs": [
    {
     "data": {
      "text/plain": [
       "array([[1., 1., 1., 1., 1.],\n",
       "       [1., 1., 1., 1., 1.],\n",
       "       [1., 1., 1., 1., 1.],\n",
       "       [1., 1., 1., 1., 1.],\n",
       "       [1., 1., 1., 1., 1.]])"
      ]
     },
     "execution_count": 17,
     "metadata": {},
     "output_type": "execute_result"
    }
   ],
   "source": [
    "import numpy as np\n",
    "np.ones((5,5))\n"
   ]
  },
  {
   "cell_type": "code",
   "execution_count": 18,
   "metadata": {},
   "outputs": [],
   "source": [
    "from scipy import __all__ as var"
   ]
  },
  {
   "cell_type": "code",
   "execution_count": 19,
   "metadata": {},
   "outputs": [
    {
     "data": {
      "text/plain": [
       "['test',\n",
       " 'ModuleDeprecationWarning',\n",
       " 'VisibleDeprecationWarning',\n",
       " '__version__',\n",
       " 'show_config',\n",
       " 'char',\n",
       " 'rec',\n",
       " 'memmap',\n",
       " 'newaxis',\n",
       " 'ndarray',\n",
       " 'flatiter',\n",
       " 'nditer',\n",
       " 'nested_iters',\n",
       " 'ufunc',\n",
       " 'arange',\n",
       " 'array',\n",
       " 'zeros',\n",
       " 'count_nonzero',\n",
       " 'empty',\n",
       " 'broadcast',\n",
       " 'dtype',\n",
       " 'fromstring',\n",
       " 'fromfile',\n",
       " 'frombuffer',\n",
       " 'int_asbuffer',\n",
       " 'where',\n",
       " 'argwhere',\n",
       " 'copyto',\n",
       " 'concatenate',\n",
       " 'fastCopyAndTranspose',\n",
       " 'lexsort',\n",
       " 'set_numeric_ops',\n",
       " 'can_cast',\n",
       " 'promote_types',\n",
       " 'min_scalar_type',\n",
       " 'result_type',\n",
       " 'isfortran',\n",
       " 'empty_like',\n",
       " 'zeros_like',\n",
       " 'ones_like',\n",
       " 'correlate',\n",
       " 'convolve',\n",
       " 'inner',\n",
       " 'dot',\n",
       " 'outer',\n",
       " 'vdot',\n",
       " 'roll',\n",
       " 'rollaxis',\n",
       " 'moveaxis',\n",
       " 'cross',\n",
       " 'tensordot',\n",
       " 'little_endian',\n",
       " 'fromiter',\n",
       " 'array_equal',\n",
       " 'array_equiv',\n",
       " 'indices',\n",
       " 'fromfunction',\n",
       " 'isclose',\n",
       " 'load',\n",
       " 'loads',\n",
       " 'isscalar',\n",
       " 'binary_repr',\n",
       " 'base_repr',\n",
       " 'ones',\n",
       " 'identity',\n",
       " 'allclose',\n",
       " 'compare_chararrays',\n",
       " 'putmask',\n",
       " 'flatnonzero',\n",
       " 'Inf',\n",
       " 'inf',\n",
       " 'infty',\n",
       " 'Infinity',\n",
       " 'nan',\n",
       " 'NaN',\n",
       " 'False_',\n",
       " 'True_',\n",
       " 'bitwise_not',\n",
       " 'CLIP',\n",
       " 'RAISE',\n",
       " 'WRAP',\n",
       " 'MAXDIMS',\n",
       " 'BUFSIZE',\n",
       " 'ALLOW_THREADS',\n",
       " 'ComplexWarning',\n",
       " 'full',\n",
       " 'full_like',\n",
       " 'matmul',\n",
       " 'shares_memory',\n",
       " 'may_share_memory',\n",
       " 'MAY_SHARE_BOUNDS',\n",
       " 'MAY_SHARE_EXACT',\n",
       " 'TooHardError',\n",
       " 'AxisError',\n",
       " 'alen',\n",
       " 'all',\n",
       " 'alltrue',\n",
       " 'amax',\n",
       " 'amin',\n",
       " 'any',\n",
       " 'argmax',\n",
       " 'argmin',\n",
       " 'argpartition',\n",
       " 'argsort',\n",
       " 'around',\n",
       " 'choose',\n",
       " 'clip',\n",
       " 'compress',\n",
       " 'cumprod',\n",
       " 'cumproduct',\n",
       " 'cumsum',\n",
       " 'diagonal',\n",
       " 'mean',\n",
       " 'ndim',\n",
       " 'nonzero',\n",
       " 'partition',\n",
       " 'prod',\n",
       " 'product',\n",
       " 'ptp',\n",
       " 'put',\n",
       " 'rank',\n",
       " 'ravel',\n",
       " 'repeat',\n",
       " 'reshape',\n",
       " 'resize',\n",
       " 'round_',\n",
       " 'searchsorted',\n",
       " 'shape',\n",
       " 'size',\n",
       " 'sometrue',\n",
       " 'sort',\n",
       " 'squeeze',\n",
       " 'std',\n",
       " 'sum',\n",
       " 'swapaxes',\n",
       " 'take',\n",
       " 'trace',\n",
       " 'transpose',\n",
       " 'var',\n",
       " '_UFUNC_API',\n",
       " 'ERR_CALL',\n",
       " 'ERR_DEFAULT',\n",
       " 'ERR_IGNORE',\n",
       " 'ERR_LOG',\n",
       " 'ERR_PRINT',\n",
       " 'ERR_RAISE',\n",
       " 'ERR_WARN',\n",
       " 'FLOATING_POINT_SUPPORT',\n",
       " 'FPE_DIVIDEBYZERO',\n",
       " 'FPE_INVALID',\n",
       " 'FPE_OVERFLOW',\n",
       " 'FPE_UNDERFLOW',\n",
       " 'NAN',\n",
       " 'NINF',\n",
       " 'NZERO',\n",
       " 'PINF',\n",
       " 'PZERO',\n",
       " 'SHIFT_DIVIDEBYZERO',\n",
       " 'SHIFT_INVALID',\n",
       " 'SHIFT_OVERFLOW',\n",
       " 'SHIFT_UNDERFLOW',\n",
       " 'UFUNC_BUFSIZE_DEFAULT',\n",
       " 'UFUNC_PYVALS_NAME',\n",
       " '_add_newdoc_ufunc',\n",
       " 'absolute',\n",
       " 'add',\n",
       " 'arccos',\n",
       " 'arccosh',\n",
       " 'arcsin',\n",
       " 'arcsinh',\n",
       " 'arctan',\n",
       " 'arctan2',\n",
       " 'arctanh',\n",
       " 'bitwise_and',\n",
       " 'bitwise_or',\n",
       " 'bitwise_xor',\n",
       " 'cbrt',\n",
       " 'ceil',\n",
       " 'conj',\n",
       " 'conjugate',\n",
       " 'copysign',\n",
       " 'cos',\n",
       " 'cosh',\n",
       " 'deg2rad',\n",
       " 'degrees',\n",
       " 'divide',\n",
       " 'divmod',\n",
       " 'e',\n",
       " 'equal',\n",
       " 'euler_gamma',\n",
       " 'exp',\n",
       " 'exp2',\n",
       " 'expm1',\n",
       " 'fabs',\n",
       " 'floor',\n",
       " 'floor_divide',\n",
       " 'float_power',\n",
       " 'fmax',\n",
       " 'fmin',\n",
       " 'fmod',\n",
       " 'frexp',\n",
       " 'frompyfunc',\n",
       " 'gcd',\n",
       " 'geterrobj',\n",
       " 'greater',\n",
       " 'greater_equal',\n",
       " 'heaviside',\n",
       " 'hypot',\n",
       " 'invert',\n",
       " 'isfinite',\n",
       " 'isinf',\n",
       " 'isnan',\n",
       " 'isnat',\n",
       " 'lcm',\n",
       " 'ldexp',\n",
       " 'left_shift',\n",
       " 'less',\n",
       " 'less_equal',\n",
       " 'log',\n",
       " 'log10',\n",
       " 'log1p',\n",
       " 'log2',\n",
       " 'logaddexp',\n",
       " 'logaddexp2',\n",
       " 'logical_and',\n",
       " 'logical_not',\n",
       " 'logical_or',\n",
       " 'logical_xor',\n",
       " 'maximum',\n",
       " 'minimum',\n",
       " 'mod',\n",
       " 'modf',\n",
       " 'multiply',\n",
       " 'negative',\n",
       " 'nextafter',\n",
       " 'not_equal',\n",
       " 'pi',\n",
       " 'positive',\n",
       " 'power',\n",
       " 'rad2deg',\n",
       " 'radians',\n",
       " 'reciprocal',\n",
       " 'remainder',\n",
       " 'right_shift',\n",
       " 'rint',\n",
       " 'seterrobj',\n",
       " 'sign',\n",
       " 'signbit',\n",
       " 'sin',\n",
       " 'sinh',\n",
       " 'spacing',\n",
       " 'sqrt',\n",
       " 'square',\n",
       " 'subtract',\n",
       " 'tan',\n",
       " 'tanh',\n",
       " 'true_divide',\n",
       " 'trunc',\n",
       " 'sctypeDict',\n",
       " 'sctypeNA',\n",
       " 'typeDict',\n",
       " 'typeNA',\n",
       " 'sctypes',\n",
       " 'ScalarType',\n",
       " 'obj2sctype',\n",
       " 'cast',\n",
       " 'nbytes',\n",
       " 'sctype2char',\n",
       " 'maximum_sctype',\n",
       " 'issctype',\n",
       " 'typecodes',\n",
       " 'find_common_type',\n",
       " 'issubdtype',\n",
       " 'datetime_data',\n",
       " 'datetime_as_string',\n",
       " 'busday_offset',\n",
       " 'busday_count',\n",
       " 'is_busday',\n",
       " 'busdaycalendar',\n",
       " 'byte',\n",
       " 'ubyte',\n",
       " 'short',\n",
       " 'ushort',\n",
       " 'uint',\n",
       " 'intp',\n",
       " 'uintp',\n",
       " 'long',\n",
       " 'longlong',\n",
       " 'ulonglong',\n",
       " 'half',\n",
       " 'double',\n",
       " 'longdouble',\n",
       " 'cfloat',\n",
       " 'cdouble',\n",
       " 'clongdouble',\n",
       " 'unicode',\n",
       " 'void',\n",
       " 'generic',\n",
       " 'number',\n",
       " 'integer',\n",
       " 'inexact',\n",
       " 'signedinteger',\n",
       " 'unsignedinteger',\n",
       " 'floating',\n",
       " 'complexfloating',\n",
       " 'flexible',\n",
       " 'character',\n",
       " 'bool8',\n",
       " 'int64',\n",
       " 'uint64',\n",
       " 'float16',\n",
       " 'float32',\n",
       " 'float64',\n",
       " 'complex64',\n",
       " 'complex128',\n",
       " 'object0',\n",
       " 'bytes0',\n",
       " 'str0',\n",
       " 'void0',\n",
       " 'datetime64',\n",
       " 'timedelta64',\n",
       " 'int32',\n",
       " 'uint32',\n",
       " 'int16',\n",
       " 'uint16',\n",
       " 'int8',\n",
       " 'uint8',\n",
       " 'complex_',\n",
       " 'int0',\n",
       " 'uint0',\n",
       " 'single',\n",
       " 'csingle',\n",
       " 'singlecomplex',\n",
       " 'float_',\n",
       " 'intc',\n",
       " 'uintc',\n",
       " 'int_',\n",
       " 'longfloat',\n",
       " 'clongfloat',\n",
       " 'longcomplex',\n",
       " 'bool_',\n",
       " 'bytes_',\n",
       " 'string_',\n",
       " 'unicode_',\n",
       " 'object_',\n",
       " 'str_',\n",
       " 'array2string',\n",
       " 'array_str',\n",
       " 'array_repr',\n",
       " 'set_string_function',\n",
       " 'set_printoptions',\n",
       " 'get_printoptions',\n",
       " 'printoptions',\n",
       " 'format_float_positional',\n",
       " 'format_float_scientific',\n",
       " 'asarray',\n",
       " 'asanyarray',\n",
       " 'ascontiguousarray',\n",
       " 'asfortranarray',\n",
       " 'require',\n",
       " 'seterr',\n",
       " 'geterr',\n",
       " 'setbufsize',\n",
       " 'getbufsize',\n",
       " 'seterrcall',\n",
       " 'geterrcall',\n",
       " 'errstate',\n",
       " 'alen',\n",
       " 'all',\n",
       " 'alltrue',\n",
       " 'amax',\n",
       " 'amin',\n",
       " 'any',\n",
       " 'argmax',\n",
       " 'argmin',\n",
       " 'argpartition',\n",
       " 'argsort',\n",
       " 'around',\n",
       " 'choose',\n",
       " 'clip',\n",
       " 'compress',\n",
       " 'cumprod',\n",
       " 'cumproduct',\n",
       " 'cumsum',\n",
       " 'diagonal',\n",
       " 'mean',\n",
       " 'ndim',\n",
       " 'nonzero',\n",
       " 'partition',\n",
       " 'prod',\n",
       " 'product',\n",
       " 'ptp',\n",
       " 'put',\n",
       " 'rank',\n",
       " 'ravel',\n",
       " 'repeat',\n",
       " 'reshape',\n",
       " 'resize',\n",
       " 'round_',\n",
       " 'searchsorted',\n",
       " 'shape',\n",
       " 'size',\n",
       " 'sometrue',\n",
       " 'sort',\n",
       " 'squeeze',\n",
       " 'std',\n",
       " 'sum',\n",
       " 'swapaxes',\n",
       " 'take',\n",
       " 'trace',\n",
       " 'transpose',\n",
       " 'var',\n",
       " 'record',\n",
       " 'recarray',\n",
       " 'format_parser',\n",
       " 'chararray',\n",
       " 'logspace',\n",
       " 'linspace',\n",
       " 'geomspace',\n",
       " 'MachAr',\n",
       " 'finfo',\n",
       " 'iinfo',\n",
       " 'atleast_1d',\n",
       " 'atleast_2d',\n",
       " 'atleast_3d',\n",
       " 'block',\n",
       " 'hstack',\n",
       " 'stack',\n",
       " 'vstack',\n",
       " 'einsum',\n",
       " 'einsum_path',\n",
       " 'matrix',\n",
       " 'bmat',\n",
       " 'mat',\n",
       " 'asmatrix',\n",
       " 'emath',\n",
       " 'math',\n",
       " 'tracemalloc_domain',\n",
       " 'iscomplexobj',\n",
       " 'isrealobj',\n",
       " 'imag',\n",
       " 'iscomplex',\n",
       " 'isreal',\n",
       " 'nan_to_num',\n",
       " 'real',\n",
       " 'real_if_close',\n",
       " 'typename',\n",
       " 'asfarray',\n",
       " 'mintypecode',\n",
       " 'asscalar',\n",
       " 'common_type',\n",
       " 'ravel_multi_index',\n",
       " 'unravel_index',\n",
       " 'mgrid',\n",
       " 'ogrid',\n",
       " 'r_',\n",
       " 'c_',\n",
       " 's_',\n",
       " 'index_exp',\n",
       " 'ix_',\n",
       " 'ndenumerate',\n",
       " 'ndindex',\n",
       " 'fill_diagonal',\n",
       " 'diag_indices',\n",
       " 'diag_indices_from',\n",
       " 'select',\n",
       " 'piecewise',\n",
       " 'trim_zeros',\n",
       " 'copy',\n",
       " 'iterable',\n",
       " 'percentile',\n",
       " 'diff',\n",
       " 'gradient',\n",
       " 'angle',\n",
       " 'unwrap',\n",
       " 'sort_complex',\n",
       " 'disp',\n",
       " 'flip',\n",
       " 'rot90',\n",
       " 'extract',\n",
       " 'place',\n",
       " 'vectorize',\n",
       " 'asarray_chkfinite',\n",
       " 'average',\n",
       " 'bincount',\n",
       " 'digitize',\n",
       " 'cov',\n",
       " 'corrcoef',\n",
       " 'msort',\n",
       " 'median',\n",
       " 'sinc',\n",
       " 'hamming',\n",
       " 'hanning',\n",
       " 'bartlett',\n",
       " 'blackman',\n",
       " 'kaiser',\n",
       " 'trapz',\n",
       " 'i0',\n",
       " 'add_newdoc',\n",
       " 'add_docstring',\n",
       " 'meshgrid',\n",
       " 'delete',\n",
       " 'insert',\n",
       " 'append',\n",
       " 'interp',\n",
       " 'add_newdoc_ufunc',\n",
       " 'quantile',\n",
       " 'column_stack',\n",
       " 'row_stack',\n",
       " 'dstack',\n",
       " 'array_split',\n",
       " 'split',\n",
       " 'hsplit',\n",
       " 'vsplit',\n",
       " 'dsplit',\n",
       " 'apply_over_axes',\n",
       " 'expand_dims',\n",
       " 'apply_along_axis',\n",
       " 'kron',\n",
       " 'tile',\n",
       " 'get_array_wrap',\n",
       " 'take_along_axis',\n",
       " 'put_along_axis',\n",
       " 'broadcast_to',\n",
       " 'broadcast_arrays',\n",
       " 'diag',\n",
       " 'diagflat',\n",
       " 'eye',\n",
       " 'fliplr',\n",
       " 'flipud',\n",
       " 'tri',\n",
       " 'triu',\n",
       " 'tril',\n",
       " 'vander',\n",
       " 'histogram2d',\n",
       " 'mask_indices',\n",
       " 'tril_indices',\n",
       " 'tril_indices_from',\n",
       " 'triu_indices',\n",
       " 'triu_indices_from',\n",
       " 'fix',\n",
       " 'isneginf',\n",
       " 'isposinf',\n",
       " 'pad',\n",
       " 'poly',\n",
       " 'roots',\n",
       " 'polyint',\n",
       " 'polyder',\n",
       " 'polyadd',\n",
       " 'polysub',\n",
       " 'polymul',\n",
       " 'polydiv',\n",
       " 'polyval',\n",
       " 'poly1d',\n",
       " 'polyfit',\n",
       " 'RankWarning',\n",
       " 'issubclass_',\n",
       " 'issubsctype',\n",
       " 'issubdtype',\n",
       " 'deprecate',\n",
       " 'deprecate_with_doc',\n",
       " 'get_include',\n",
       " 'info',\n",
       " 'source',\n",
       " 'who',\n",
       " 'lookfor',\n",
       " 'byte_bounds',\n",
       " 'safe_eval',\n",
       " 'ediff1d',\n",
       " 'intersect1d',\n",
       " 'setxor1d',\n",
       " 'union1d',\n",
       " 'setdiff1d',\n",
       " 'unique',\n",
       " 'in1d',\n",
       " 'isin',\n",
       " 'savetxt',\n",
       " 'loadtxt',\n",
       " 'genfromtxt',\n",
       " 'ndfromtxt',\n",
       " 'mafromtxt',\n",
       " 'recfromtxt',\n",
       " 'recfromcsv',\n",
       " 'load',\n",
       " 'loads',\n",
       " 'save',\n",
       " 'savez',\n",
       " 'savez_compressed',\n",
       " 'packbits',\n",
       " 'unpackbits',\n",
       " 'fromregex',\n",
       " 'DataSource',\n",
       " 'fv',\n",
       " 'pmt',\n",
       " 'nper',\n",
       " 'ipmt',\n",
       " 'ppmt',\n",
       " 'pv',\n",
       " 'rate',\n",
       " 'irr',\n",
       " 'npv',\n",
       " 'mirr',\n",
       " 'nansum',\n",
       " 'nanmax',\n",
       " 'nanmin',\n",
       " 'nanargmax',\n",
       " 'nanargmin',\n",
       " 'nanmean',\n",
       " 'nanmedian',\n",
       " 'nanpercentile',\n",
       " 'nanvar',\n",
       " 'nanstd',\n",
       " 'nanprod',\n",
       " 'nancumsum',\n",
       " 'nancumprod',\n",
       " 'nanquantile',\n",
       " 'histogram',\n",
       " 'histogramdd',\n",
       " 'histogram_bin_edges',\n",
       " 'fft',\n",
       " 'random',\n",
       " 'ctypeslib',\n",
       " 'ma',\n",
       " 'randn',\n",
       " 'rand',\n",
       " 'fft',\n",
       " 'ifft']"
      ]
     },
     "execution_count": 19,
     "metadata": {},
     "output_type": "execute_result"
    }
   ],
   "source": [
    "var"
   ]
  },
  {
   "cell_type": "code",
   "execution_count": 20,
   "metadata": {},
   "outputs": [],
   "source": [
    "def inner(a,s,d,**kwargs):\n",
    "    return None"
   ]
  },
  {
   "cell_type": "code",
   "execution_count": 21,
   "metadata": {},
   "outputs": [],
   "source": [
    "import inspect"
   ]
  },
  {
   "cell_type": "code",
   "execution_count": 23,
   "metadata": {},
   "outputs": [],
   "source": [
    "a = inspect.getfullargspec(inner)"
   ]
  },
  {
   "cell_type": "code",
   "execution_count": 30,
   "metadata": {},
   "outputs": [
    {
     "data": {
      "text/plain": [
       "FullArgSpec(args=['a', 's', 'd'], varargs=None, varkw='kwargs', defaults=None, kwonlyargs=[], kwonlydefaults=None, annotations={})"
      ]
     },
     "execution_count": 30,
     "metadata": {},
     "output_type": "execute_result"
    }
   ],
   "source": [
    "a"
   ]
  },
  {
   "cell_type": "code",
   "execution_count": 25,
   "metadata": {},
   "outputs": [
    {
     "data": {
      "text/plain": [
       "['a', 's', 'd']"
      ]
     },
     "execution_count": 25,
     "metadata": {},
     "output_type": "execute_result"
    }
   ],
   "source": [
    "a.args"
   ]
  },
  {
   "cell_type": "code",
   "execution_count": 28,
   "metadata": {},
   "outputs": [
    {
     "ename": "AssertionError",
     "evalue": "NIONONONONON",
     "output_type": "error",
     "traceback": [
      "\u001b[1;31m---------------------------------------------------------------------------\u001b[0m",
      "\u001b[1;31mAssertionError\u001b[0m                            Traceback (most recent call last)",
      "\u001b[1;32m<ipython-input-28-d5100a7d9f6d>\u001b[0m in \u001b[0;36m<module>\u001b[1;34m\u001b[0m\n\u001b[1;32m----> 1\u001b[1;33m \u001b[1;32massert\u001b[0m \u001b[1;36m1\u001b[0m\u001b[1;33m==\u001b[0m\u001b[1;36m2\u001b[0m\u001b[1;33m,\u001b[0m \u001b[1;34m'NIONONONONON'\u001b[0m\u001b[1;33m\u001b[0m\u001b[0m\n\u001b[0m",
      "\u001b[1;31mAssertionError\u001b[0m: NIONONONONON"
     ]
    }
   ],
   "source": [
    "assert 1==2, 'NIONONONONON'\n"
   ]
  },
  {
   "cell_type": "code",
   "execution_count": 31,
   "metadata": {},
   "outputs": [],
   "source": [
    "a = {1,2,3}\n",
    "b = a.update({4,5,6})"
   ]
  },
  {
   "cell_type": "code",
   "execution_count": 32,
   "metadata": {},
   "outputs": [],
   "source": [
    "b"
   ]
  },
  {
   "cell_type": "code",
   "execution_count": 33,
   "metadata": {},
   "outputs": [
    {
     "data": {
      "text/plain": [
       "{1, 2, 3, 4, 5, 6}"
      ]
     },
     "execution_count": 33,
     "metadata": {},
     "output_type": "execute_result"
    }
   ],
   "source": [
    "a"
   ]
  },
  {
   "cell_type": "code",
   "execution_count": 36,
   "metadata": {},
   "outputs": [],
   "source": [
    "a = slice(1,4)"
   ]
  },
  {
   "cell_type": "code",
   "execution_count": 37,
   "metadata": {},
   "outputs": [
    {
     "data": {
      "text/plain": [
       "True"
      ]
     },
     "execution_count": 37,
     "metadata": {},
     "output_type": "execute_result"
    }
   ],
   "source": [
    "isinstance(a, slice)"
   ]
  },
  {
   "cell_type": "code",
   "execution_count": 46,
   "metadata": {},
   "outputs": [],
   "source": [
    "a = (slice(2,3), )\n",
    "b = np.ones((5,5))"
   ]
  },
  {
   "cell_type": "code",
   "execution_count": 47,
   "metadata": {},
   "outputs": [
    {
     "data": {
      "text/plain": [
       "array([[1., 1., 1., 1., 1.]])"
      ]
     },
     "execution_count": 47,
     "metadata": {},
     "output_type": "execute_result"
    }
   ],
   "source": [
    "b[a]"
   ]
  },
  {
   "cell_type": "code",
   "execution_count": 45,
   "metadata": {},
   "outputs": [
    {
     "ename": "TypeError",
     "evalue": "'NoneType' object is not iterable",
     "output_type": "error",
     "traceback": [
      "\u001b[1;31m---------------------------------------------------------------------------\u001b[0m",
      "\u001b[1;31mTypeError\u001b[0m                                 Traceback (most recent call last)",
      "\u001b[1;32m<ipython-input-45-c93810e3606c>\u001b[0m in \u001b[0;36m<module>\u001b[1;34m\u001b[0m\n\u001b[1;32m----> 1\u001b[1;33m \u001b[0mtuple\u001b[0m\u001b[1;33m(\u001b[0m\u001b[1;32mNone\u001b[0m\u001b[1;33m)\u001b[0m\u001b[1;33m\u001b[0m\u001b[0m\n\u001b[0m",
      "\u001b[1;31mTypeError\u001b[0m: 'NoneType' object is not iterable"
     ]
    }
   ],
   "source": [
    "tuple(None)"
   ]
  },
  {
   "cell_type": "code",
   "execution_count": 49,
   "metadata": {},
   "outputs": [
    {
     "data": {
      "text/plain": [
       "FullArgSpec(args=['self'], varargs=None, varkw=None, defaults=None, kwonlyargs=[], kwonlydefaults=None, annotations={})"
      ]
     },
     "execution_count": 49,
     "metadata": {},
     "output_type": "execute_result"
    }
   ],
   "source": [
    "inspect.getfullargspec(str.__len__)"
   ]
  },
  {
   "cell_type": "code",
   "execution_count": 50,
   "metadata": {},
   "outputs": [],
   "source": [
    "a = {1,2,3}\n",
    "b = [5,6,7]"
   ]
  },
  {
   "cell_type": "code",
   "execution_count": 51,
   "metadata": {},
   "outputs": [],
   "source": [
    "a.update(b)"
   ]
  },
  {
   "cell_type": "code",
   "execution_count": 52,
   "metadata": {},
   "outputs": [
    {
     "data": {
      "text/plain": [
       "{1, 2, 3, 5, 6, 7}"
      ]
     },
     "execution_count": 52,
     "metadata": {},
     "output_type": "execute_result"
    }
   ],
   "source": [
    "a"
   ]
  },
  {
   "cell_type": "code",
   "execution_count": null,
   "metadata": {},
   "outputs": [],
   "source": []
  }
 ],
 "metadata": {
  "kernelspec": {
   "display_name": "Python 3",
   "language": "python",
   "name": "python3"
  },
  "language_info": {
   "codemirror_mode": {
    "name": "ipython",
    "version": 3
   },
   "file_extension": ".py",
   "mimetype": "text/x-python",
   "name": "python",
   "nbconvert_exporter": "python",
   "pygments_lexer": "ipython3",
   "version": "3.7.0"
  }
 },
 "nbformat": 4,
 "nbformat_minor": 2
}
